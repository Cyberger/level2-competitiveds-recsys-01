{
 "cells": [
  {
   "cell_type": "code",
   "execution_count": 6,
   "metadata": {},
   "outputs": [],
   "source": [
    "import torch\n",
    "from torch import nn\n",
    "import torch.optim as optim\n",
    "\n",
    "# CNN 모듈 (위/경도 처리)\n",
    "class CNNModel(nn.Module):\n",
    "    def __init__(self):\n",
    "        super(CNNModel, self).__init__()\n",
    "        # Convolutional layers\n",
    "        self.conv1 = nn.Conv2d(in_channels=1, out_channels=32, kernel_size=3, stride=1, padding=1)\n",
    "        self.pool = nn.MaxPool2d(kernel_size=2, stride=2)\n",
    "        self.conv2 = nn.Conv2d(in_channels=32, out_channels=64, kernel_size=3, stride=1, padding=1)\n",
    "        \n",
    "        # Fully connected layers\n",
    "        self.fc1 = nn.Linear(64 * 10 * 7, 128)  # Input을 적절히 Flatten하여 Linear Layer에 전달\n",
    "        self.relu = nn.ReLU()\n",
    "\n",
    "    def forward(self, x):\n",
    "        # Apply convolutional layers\n",
    "        x = self.pool(self.relu(self.conv1(x)))  # (N, 1, 43, 28) -> (N, 32, 21, 14)\n",
    "        x = self.pool(self.relu(self.conv2(x)))  # (N, 32, 21, 14) -> (N, 64, 10, 7)\n",
    "\n",
    "        # Flatten the output of the conv layers\n",
    "        x = x.view(-1, 64 * 10 * 7)  # Flatten: (N, 64, 10, 7) -> (N, 64 * 10 * 7)\n",
    "\n",
    "        # Fully connected layer\n",
    "        x = self.relu(self.fc1(x))  # (N, 64 * 10 * 7) -> (N, 128)\n",
    "        return x\n",
    "\n",
    "# MLP 모듈 (정형 데이터 처리: 금리, 면적 등)\n",
    "class MLPModel(nn.Module):\n",
    "    def __init__(self, input_size):\n",
    "        super(MLPModel, self).__init__()\n",
    "        self.fc1 = nn.Linear(input_size, 64)\n",
    "        self.fc2 = nn.Linear(64, 96)\n",
    "        self.relu = nn.ReLU()\n",
    "\n",
    "    def forward(self, x):\n",
    "        x = self.relu(self.fc1(x))\n",
    "        x = self.relu(self.fc2(x))\n",
    "        x = x.squeeze(1)\n",
    "        return x\n",
    "\n",
    "# 결합 모델 (CNN + MLP)\n",
    "class CombinedModel(nn.Module):\n",
    "    def __init__(self, input_size):\n",
    "        super(CombinedModel, self).__init__()\n",
    "        self.cnn = CNNModel()\n",
    "        self.mlp = MLPModel(input_size)\n",
    "        self.fc = nn.Linear(128+96, 1)  # CNN과 MLP의 출력 크기를 합친 후 최종 예측\n",
    "\n",
    "    def forward(self, x_cnn, x_mlp):\n",
    "        cnn_out = self.cnn(x_cnn)  # CNN 처리 (위/경도)\n",
    "        mlp_out = self.mlp(x_mlp)  # MLP 처리 (정형 데이터)\n",
    "\n",
    "        combined = torch.cat((cnn_out, mlp_out), dim=1)  # 두 출력을 결합\n",
    "\n",
    "        out = self.fc(combined)  # 최종 예측 (전세가)\n",
    "        return out"
   ]
  },
  {
   "cell_type": "code",
   "execution_count": 13,
   "metadata": {},
   "outputs": [],
   "source": [
    "from utils.datasets import *\n",
    "from tqdm import tqdm\n",
    "from sklearn.metrics import mean_absolute_error\n",
    "\n",
    "def train(model, train_loader, loss_fn, optimizer, epochs, device, losses):\n",
    "\n",
    "    # train 모드로 설정\n",
    "    model.train()\n",
    "\n",
    "    for epoch in tqdm(range(epochs)):\n",
    "        epoch_loss = 0.0\n",
    "        for batch in tqdm(train_loader):\n",
    "            X_cnn,X_mlp, y = batch\n",
    "            X_cnn, X_mlp, y = X_cnn.to(device), X_mlp.to(device), y.to(device)\n",
    "\n",
    "            optimizer.zero_grad()\n",
    "            y_pred = model(X_cnn, X_mlp)\n",
    "            loss = criterion(y_pred,y)\n",
    "            loss.backward()\n",
    "            optimizer.step()\n",
    "            \n",
    "            epoch_loss += loss.item()\n",
    "        losses.append(epoch_loss)\n",
    "        print(f\"Epoch {epoch+1}, Loss: {epoch_loss}\")\n",
    "\n",
    "def validate(model, valid_loader, device) -> int:\n",
    "    model.to(device)\n",
    "    model.eval()\n",
    "\n",
    "    all_preds = []\n",
    "    all_targets = []\n",
    "    \n",
    "    with torch.no_grad():\n",
    "        for batch in tqdm(valid_loader):\n",
    "            X_cnn, X_mlp, y = batch\n",
    "            X_cnn, X_mlp, y = X_cnn.to(device), X_mlp.to(device), y.to(device)\n",
    "            \n",
    "            output = model(X_cnn, X_mlp)\n",
    "            \n",
    "            # 예측값을 numpy로 변환하고 (batch_size, 1) 형태로 조정 후 리스트에 저장\n",
    "            all_preds.append(output.cpu().numpy().reshape(-1, 1))\n",
    "            all_targets.append(y.cpu().numpy().reshape(-1, 1))  # 실제값도 같은 형태로 저장\n",
    "\n",
    "    # 전체 데이터를 (len(valid), 1) 형태의 numpy 배열로 변환\n",
    "    all_preds = np.vstack(all_preds)  # 세로로 쌓아서 (len(valid), 1) 배열 생성\n",
    "    all_targets = np.vstack(all_targets)  # 실제값도 같은 방식으로 변환\n",
    "    print(all_preds)\n",
    "    # MAE 계산\n",
    "    mae_score = mean_absolute_error(all_targets, all_preds)\n",
    "    print(f'\\nMAE Score: {mae_score:.4f}')\n",
    "    return mae_score\n",
    "\n",
    "def inference_test(model, test_loader, device) -> np.ndarray:\n",
    "    model.to(device)\n",
    "    model.eval()\n",
    "    all_preds = []\n",
    "\n",
    "    with torch.no_grad():\n",
    "        for batch in tqdm(test_loader):\n",
    "            X_cnn, X_mlp = batch\n",
    "            X_cnn, X_mlp = X_cnn.to(device), X_mlp.to(device)\n",
    "\n",
    "            y_pred = model(X_cnn, X_mlp)\n",
    "            all_preds.append(y_pred.cpu().numpy().reshape(-1,1))\n",
    "            \n",
    "        output = np.array(np.vstack(all_preds))\n",
    "\n",
    "    return output\n",
    "\n"
   ]
  },
  {
   "cell_type": "code",
   "execution_count": null,
   "metadata": {},
   "outputs": [],
   "source": [
    "from utils.datasets import CombinedDataset\n",
    "from torch.utils.data import DataLoader\n",
    "\n",
    "train_set = CombinedDataset(mode='train')\n",
    "valid_set = CombinedDataset(mode='valid')\n",
    "test_set = CombinedDataset(mode='test')\n",
    "\n",
    "train_loader = DataLoader(dataset=train_set, batch_size = 64, shuffle=False)\n",
    "valid_loader = DataLoader(dataset=valid_set, batch_size=64, shuffle=False)\n",
    "test_loader = DataLoader(dataset=test_set, batch_size=64, shuffle=False)"
   ]
  },
  {
   "cell_type": "code",
   "execution_count": 11,
   "metadata": {},
   "outputs": [
    {
     "name": "stdout",
     "output_type": "stream",
     "text": [
      "feature 수 :  36\n"
     ]
    }
   ],
   "source": [
    "mlp_input = len(valid_set.mlp[0][0][0])\n",
    "print(\"feature 수 : \", mlp_input)\n",
    "\n",
    "# batch 단위로 학습\n",
    "device = 'cuda'\n",
    "\n",
    "#model = CombinedModel(mlp_input).to(device)\n",
    "criterion = nn.L1Loss()\n",
    "optimizer = optim.Adam(model.parameters(), lr=0.001)\n",
    "epochs = 100\n",
    "losses = []"
   ]
  },
  {
   "cell_type": "code",
   "execution_count": null,
   "metadata": {},
   "outputs": [],
   "source": [
    "train(model = model, train_loader= train_loader, loss_fn = criterion, optimizer = optimizer, epochs = epochs, device = device, losses = losses)"
   ]
  },
  {
   "cell_type": "code",
   "execution_count": 14,
   "metadata": {},
   "outputs": [
    {
     "data": {
      "image/png": "[encoded data removed]",
      "text/plain": [
       "<Figure size 640x480 with 1 Axes>"
      ]
     },
     "metadata": {},
     "output_type": "display_data"
    }
   ],
   "source": [
    "import matplotlib.pyplot as plt\n",
    "\n",
    "plt.plot(range(epochs), losses)\n",
    "plt.xlabel('Epoch')\n",
    "plt.ylabel('Loss')\n",
    "plt.title('Loss over Epochs')\n",
    "plt.show()"
   ]
  },
  {
   "cell_type": "code",
   "execution_count": 25,
   "metadata": {},
   "outputs": [],
   "source": [
    "torch.save(model.state_dict(), 'model_state_dict.pth')"
   ]
  },
  {
   "cell_type": "code",
   "execution_count": 1,
   "metadata": {},
   "outputs": [
    {
     "name": "stderr",
     "output_type": "stream",
     "text": [
      "198549it [00:16, 11957.54it/s]\n",
      "/data/ephemeral/home/jaeeun/level2-competitiveds-recsys-01/code/utils/datasets.py:107: UserWarning: To copy construct from a tensor, it is recommended to use sourceTensor.clone().detach() or sourceTensor.clone().detach().requires_grad_(True), rather than torch.tensor(sourceTensor).\n",
      "  self.X = torch.tensor(X, dtype=torch.float32).unsqueeze(1)\n",
      "/data/ephemeral/home/jaeeun/level2-competitiveds-recsys-01/code/utils/datasets.py:108: UserWarning: To copy construct from a tensor, it is recommended to use sourceTensor.clone().detach() or sourceTensor.clone().detach().requires_grad_(True), rather than torch.tensor(sourceTensor).\n",
      "  self.y = torch.tensor(y, dtype=torch.float32).unsqueeze(1)\n"
     ]
    },
    {
     "name": "stdout",
     "output_type": "stream",
     "text": [
      "clustering apply ...\n",
      "start to cleaning outliers...\n",
      "train, valid, test split for preprocessing & feature engineering ...\n",
      "start to preprocessing...\n"
     ]
    },
    {
     "name": "stderr",
     "output_type": "stream",
     "text": [
      "/data/ephemeral/home/jaeeun/level2-competitiveds-recsys-01/code/preprocessing.py:64: SettingWithCopyWarning: \n",
      "A value is trying to be set on a copy of a slice from a DataFrame.\n",
      "Try using .loc[row_indexer,col_indexer] = value instead\n",
      "\n",
      "See the caveats in the documentation: https://pandas.pydata.org/pandas-docs/stable/user_guide/indexing.html#returning-a-view-versus-a-copy\n",
      "  df[column] = df[column].map(map_dict).astype('category')\n"
     ]
    },
    {
     "name": "stdout",
     "output_type": "stream",
     "text": [
      "start to feature engineering...\n",
      "create clustering features\n"
     ]
    },
    {
     "name": "stderr",
     "output_type": "stream",
     "text": [
      "/data/ephemeral/home/jaeeun/level2-competitiveds-recsys-01/code/features/clustering_features.py:62: SettingWithCopyWarning: \n",
      "A value is trying to be set on a copy of a slice from a DataFrame.\n",
      "Try using .loc[row_indexer,col_indexer] = value instead\n",
      "\n",
      "See the caveats in the documentation: https://pandas.pydata.org/pandas-docs/stable/user_guide/indexing.html#returning-a-view-versus-a-copy\n",
      "  test_data['cluster'] = kmeans.predict(test_data[['latitude', 'longitude']])\n",
      "/data/ephemeral/home/jaeeun/level2-competitiveds-recsys-01/code/features/clustering_features.py:66: SettingWithCopyWarning: \n",
      "A value is trying to be set on a copy of a slice from a DataFrame.\n",
      "Try using .loc[row_indexer,col_indexer] = value instead\n",
      "\n",
      "See the caveats in the documentation: https://pandas.pydata.org/pandas-docs/stable/user_guide/indexing.html#returning-a-view-versus-a-copy\n",
      "  test_data['cluster'] = test_data['cluster'].astype('category')\n",
      "/data/ephemeral/home/jaeeun/level2-competitiveds-recsys-01/code/features/clustering_features.py:33: FutureWarning: The default of observed=False is deprecated and will be changed to True in a future version of pandas. Pass observed=False to retain current behavior or observed=True to adopt the future default and silence this warning.\n",
      "  cluster_density = train_data.groupby('cluster').size().reset_index(name='density')\n"
     ]
    },
    {
     "name": "stdout",
     "output_type": "stream",
     "text": [
      "create distance features\n",
      "create other features\n",
      "create count features\n",
      "Loading pre-calculated transaction data for 3 months.\n",
      "standardization...\n"
     ]
    },
    {
     "name": "stderr",
     "output_type": "stream",
     "text": [
      "150172it [00:12, 12242.61it/s]\n",
      "/data/ephemeral/home/jaeeun/level2-competitiveds-recsys-01/code/utils/datasets.py:117: UserWarning: To copy construct from a tensor, it is recommended to use sourceTensor.clone().detach() or sourceTensor.clone().detach().requires_grad_(True), rather than torch.tensor(sourceTensor).\n",
      "  self.X = torch.tensor(X, dtype=torch.float32).unsqueeze(1)\n"
     ]
    },
    {
     "name": "stdout",
     "output_type": "stream",
     "text": [
      "clustering apply ...\n",
      "start to cleaning outliers...\n",
      "train, valid, test split for preprocessing & feature engineering ...\n",
      "start to preprocessing...\n"
     ]
    },
    {
     "name": "stderr",
     "output_type": "stream",
     "text": [
      "/data/ephemeral/home/jaeeun/level2-competitiveds-recsys-01/code/preprocessing.py:64: SettingWithCopyWarning: \n",
      "A value is trying to be set on a copy of a slice from a DataFrame.\n",
      "Try using .loc[row_indexer,col_indexer] = value instead\n",
      "\n",
      "See the caveats in the documentation: https://pandas.pydata.org/pandas-docs/stable/user_guide/indexing.html#returning-a-view-versus-a-copy\n",
      "  df[column] = df[column].map(map_dict).astype('category')\n"
     ]
    },
    {
     "name": "stdout",
     "output_type": "stream",
     "text": [
      "start to feature engineering...\n",
      "create clustering features\n"
     ]
    },
    {
     "name": "stderr",
     "output_type": "stream",
     "text": [
      "/data/ephemeral/home/jaeeun/level2-competitiveds-recsys-01/code/features/clustering_features.py:62: SettingWithCopyWarning: \n",
      "A value is trying to be set on a copy of a slice from a DataFrame.\n",
      "Try using .loc[row_indexer,col_indexer] = value instead\n",
      "\n",
      "See the caveats in the documentation: https://pandas.pydata.org/pandas-docs/stable/user_guide/indexing.html#returning-a-view-versus-a-copy\n",
      "  test_data['cluster'] = kmeans.predict(test_data[['latitude', 'longitude']])\n",
      "/data/ephemeral/home/jaeeun/level2-competitiveds-recsys-01/code/features/clustering_features.py:66: SettingWithCopyWarning: \n",
      "A value is trying to be set on a copy of a slice from a DataFrame.\n",
      "Try using .loc[row_indexer,col_indexer] = value instead\n",
      "\n",
      "See the caveats in the documentation: https://pandas.pydata.org/pandas-docs/stable/user_guide/indexing.html#returning-a-view-versus-a-copy\n",
      "  test_data['cluster'] = test_data['cluster'].astype('category')\n",
      "/data/ephemeral/home/jaeeun/level2-competitiveds-recsys-01/code/features/clustering_features.py:33: FutureWarning: The default of observed=False is deprecated and will be changed to True in a future version of pandas. Pass observed=False to retain current behavior or observed=True to adopt the future default and silence this warning.\n",
      "  cluster_density = train_data.groupby('cluster').size().reset_index(name='density')\n"
     ]
    },
    {
     "name": "stdout",
     "output_type": "stream",
     "text": [
      "create distance features\n",
      "create other features\n",
      "create count features\n",
      "Loading pre-calculated transaction data for 3 months.\n",
      "standardization...\n"
     ]
    },
    {
     "data": {
      "text/plain": [
       "(tensor([[[0., 0., 0.,  ..., 0., 0., 0.],\n",
       "          [0., 0., 0.,  ..., 0., 0., 0.],\n",
       "          [0., 0., 0.,  ..., 0., 0., 0.],\n",
       "          ...,\n",
       "          [0., 0., 0.,  ..., 0., 0., 0.],\n",
       "          [0., 0., 0.,  ..., 0., 0., 0.],\n",
       "          [0., 0., 0.,  ..., 0., 0., 0.]]]),\n",
       " tensor([[-1.7320e+00,  1.0708e+00,  1.5443e+00, -4.3475e-01,  1.7160e+00,\n",
       "           3.7200e+01,  1.2682e+02, -1.5438e+00,  1.5937e+00, -2.1885e+00,\n",
       "           2.9295e+00,  1.4210e+00,  4.4390e+00, -1.7149e-01, -2.2506e-01,\n",
       "          -7.3803e-01,  6.9722e-01,  3.5435e-01,  5.1388e+00, -5.6122e-01,\n",
       "          -8.6457e-01, -1.5878e+00, -1.6628e+00, -1.3995e+00, -1.3064e+00,\n",
       "          -8.6370e-01, -1.2134e+00,  8.6794e-01,  6.3246e-02,  4.6643e-01,\n",
       "          -5.6533e-01,  5.3678e-01,  8.3514e-01,  1.3196e+00, -4.4565e-01,\n",
       "          -4.6090e-01]]),\n",
       " tensor([31000.]))"
      ]
     },
     "execution_count": 1,
     "metadata": {},
     "output_type": "execute_result"
    }
   ],
   "source": [
    "from utils import datasets\n",
    "\n",
    "valid_set = datasets.CombinedDataset(mode='valid')\n",
    "test_set = datasets.CombinedDataset(mode='test')\n",
    "\n",
    "valid_set[0]"
   ]
  },
  {
   "cell_type": "code",
   "execution_count": 3,
   "metadata": {},
   "outputs": [],
   "source": [
    "from torch.utils.data import DataLoader\n",
    "\n",
    "valid_loader = DataLoader(dataset=valid_set, batch_size=64, shuffle=False)\n",
    "test_loader = DataLoader(dataset=test_set, batch_size=64, shuffle=False)"
   ]
  },
  {
   "cell_type": "code",
   "execution_count": 14,
   "metadata": {},
   "outputs": [
    {
     "name": "stderr",
     "output_type": "stream",
     "text": [
      "/tmp/ipykernel_687638/3696806214.py:3: FutureWarning: You are using `torch.load` with `weights_only=False` (the current default value), which uses the default pickle module implicitly. It is possible to construct malicious pickle data which will execute arbitrary code during unpickling (See https://github.com/pytorch/pytorch/blob/main/SECURITY.md#untrusted-models for more details). In a future release, the default value for `weights_only` will be flipped to `True`. This limits the functions that could be executed during unpickling. Arbitrary objects will no longer be allowed to be loaded via this mode unless they are explicitly allowlisted by the user via `torch.serialization.add_safe_globals`. We recommend you start setting `weights_only=True` for any use case where you don't have full control of the loaded file. Please open an issue on GitHub for any issues related to this experimental feature.\n",
      "  model.load_state_dict(torch.load('model_state_dict.pth'))\n",
      "  0%|          | 0/3103 [00:00<?, ?it/s]"
     ]
    },
    {
     "name": "stderr",
     "output_type": "stream",
     "text": [
      "100%|██████████| 3103/3103 [00:05<00:00, 536.88it/s]"
     ]
    },
    {
     "name": "stdout",
     "output_type": "stream",
     "text": [
      "[[20675.547]\n",
      " [20822.154]\n",
      " [21061.842]\n",
      " ...\n",
      " [40033.75 ]\n",
      " [36030.965]\n",
      " [38086.11 ]]\n",
      "\n",
      "MAE Score: 14953.0117\n"
     ]
    },
    {
     "name": "stderr",
     "output_type": "stream",
     "text": [
      "\n"
     ]
    }
   ],
   "source": [
    "# validation score\n",
    "model = CombinedModel(36)  # 먼저 모델 인스턴스를 생성\n",
    "model.load_state_dict(torch.load('model_state_dict.pth'))\n",
    "\n",
    "mae = validate(model=model, valid_loader=valid_loader, device=device)"
   ]
  },
  {
   "cell_type": "code",
   "execution_count": null,
   "metadata": {},
   "outputs": [],
   "source": [
    "# test and submission file\n",
    "submission = inference_test(model=model, valid_loader=test_loader, device=device)\n",
    "submission_to_csv(submission, 'CNN+MLP model')"
   ]
  },
  {
   "cell_type": "code",
   "execution_count": null,
   "metadata": {},
   "outputs": [],
   "source": []
  }
 ],
 "metadata": {
  "kernelspec": {
   "display_name": "myenv",
   "language": "python",
   "name": "python3"
  },
  "language_info": {
   "codemirror_mode": {
    "name": "ipython",
    "version": 3
   },
   "file_extension": ".py",
   "mimetype": "text/x-python",
   "name": "python",
   "nbconvert_exporter": "python",
   "pygments_lexer": "ipython3",
   "version": "3.11.10"
  },
  "orig_nbformat": 4
 },
 "nbformat": 4,
 "nbformat_minor": 2
}
