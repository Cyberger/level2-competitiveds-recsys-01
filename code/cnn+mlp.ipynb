{
 "cells": [
  {
   "cell_type": "code",
   "execution_count": 4,
   "metadata": {},
   "outputs": [],
   "source": [
    "# CNN 모듈 (위/경도 처리)\n",
    "class CNNModel(nn.Module):\n",
    "    def __init__(self):\n",
    "        super(CNNModel, self).__init__()\n",
    "        # Convolutional layers\n",
    "        self.conv1 = nn.Conv2d(in_channels=1, out_channels=32, kernel_size=3, stride=1, padding=1)\n",
    "        self.pool = nn.MaxPool2d(kernel_size=2, stride=2)\n",
    "        self.conv2 = nn.Conv2d(in_channels=32, out_channels=64, kernel_size=3, stride=1, padding=1)\n",
    "        \n",
    "        # Fully connected layers\n",
    "        self.fc1 = nn.Linear(64 * 10 * 7, 128)  # Input을 적절히 Flatten하여 Linear Layer에 전달\n",
    "        self.relu = nn.ReLU()\n",
    "\n",
    "    def forward(self, x):\n",
    "        # Apply convolutional layers\n",
    "        x = self.pool(self.relu(self.conv1(x)))  # (N, 1, 43, 28) -> (N, 32, 21, 14)\n",
    "        x = self.pool(self.relu(self.conv2(x)))  # (N, 32, 21, 14) -> (N, 64, 10, 7)\n",
    "\n",
    "        # Flatten the output of the conv layers\n",
    "        x = x.view(-1, 64 * 10 * 7)  # Flatten: (N, 64, 10, 7) -> (N, 64 * 10 * 7)\n",
    "\n",
    "        # Fully connected layer\n",
    "        x = self.relu(self.fc1(x))  # (N, 64 * 10 * 7) -> (N, 128)\n",
    "        return x\n",
    "\n",
    "# MLP 모듈 (정형 데이터 처리: 금리, 면적 등)\n",
    "class MLPModel(nn.Module):\n",
    "    def __init__(self, input_size):\n",
    "        super(MLPModel, self).__init__()\n",
    "        self.fc1 = nn.Linear(input_size, 64)\n",
    "        self.fc2 = nn.Linear(64, 128)\n",
    "        self.relu = nn.ReLU()\n",
    "\n",
    "    def forward(self, x):\n",
    "        x = self.relu(self.fc1(x))\n",
    "        x = self.relu(self.fc2(x))\n",
    "        x = x.squeeze(1)\n",
    "        return x\n",
    "\n",
    "# 결합 모델 (CNN + MLP)\n",
    "class CombinedModel(nn.Module):\n",
    "    def __init__(self, input_size):\n",
    "        super(CombinedModel, self).__init__()\n",
    "        self.cnn = CNNModel()\n",
    "        self.mlp = MLPModel(input_size)\n",
    "        self.fc = nn.Linear(128+128, 1)  # CNN과 MLP의 출력 크기를 합친 후 최종 예측\n",
    "\n",
    "    def forward(self, x_cnn, x_mlp):\n",
    "        cnn_out = self.cnn(x_cnn)  # CNN 처리 (위/경도)\n",
    "        mlp_out = self.mlp(x_mlp)  # MLP 처리 (정형 데이터)\n",
    "\n",
    "        combined = torch.cat((cnn_out, mlp_out), dim=1)  # 두 출력을 결합\n",
    "\n",
    "        out = self.fc(combined)  # 최종 예측 (전세가)\n",
    "        return out"
   ]
  },
  {
   "cell_type": "code",
   "execution_count": 1,
   "metadata": {},
   "outputs": [],
   "source": [
    "from utils.datasets import *\n",
    "from tqdm import tqdm\n",
    "from sklearn.metrics import mean_absolute_error\n",
    "\n",
    "def train(model, train_loader, loss_fn, optimizer, epochs, device, losses):\n",
    "\n",
    "    # train 모드로 설정\n",
    "    model.train()\n",
    "\n",
    "    for epoch in tqdm(range(epochs)):\n",
    "        epoch_loss = 0.0\n",
    "        for batch in tqdm(train_loader):\n",
    "            X_cnn,X_mlp, y = batch\n",
    "            X_cnn, X_mlp, y = X_cnn.to(device), X_mlp.to(device), y.to(device)\n",
    "\n",
    "            optimizer.zero_grad()\n",
    "            y_pred = model(X_cnn, X_mlp)\n",
    "            loss = criterion(y_pred,y)\n",
    "            loss.backward()\n",
    "            optimizer.step()\n",
    "            \n",
    "            epoch_loss += loss.item()\n",
    "        losses.append(epoch_loss)\n",
    "        print(f\"Epoch {epoch+1}, Loss: {epoch_loss}\")\n",
    "\n",
    "def validate(model, valid_loader, device):\n",
    "    model.to(device)\n",
    "    model.eval()\n",
    "\n",
    "    all_preds = []\n",
    "    all_targets = []\n",
    "    \n",
    "    with torch.no_grad():\n",
    "        for batch in tqdm(valid_loader):\n",
    "            X_cnn, X_mlp, y = batch\n",
    "            X_cnn, X_mlp, y = X_cnn.to(device), X_mlp.to(device), y.to(device)\n",
    "            \n",
    "            output = model(X_cnn, X_mlp)\n",
    "            \n",
    "            # 예측값을 numpy로 변환하고 (batch_size, 1) 형태로 조정 후 리스트에 저장\n",
    "            all_preds.append(output.cpu().numpy().reshape(-1, 1))\n",
    "            all_targets.append(y.cpu().numpy().reshape(-1, 1))  # 실제값도 같은 형태로 저장\n",
    "\n",
    "    # 전체 데이터를 (len(valid), 1) 형태의 numpy 배열로 변환\n",
    "    all_preds = np.vstack(all_preds)  # 세로로 쌓아서 (len(valid), 1) 배열 생성\n",
    "    all_targets = np.vstack(all_targets)  # 실제값도 같은 방식으로 변환\n",
    "\n",
    "    # MAE 계산\n",
    "    mae_score = mean_absolute_error(all_targets, all_preds)\n",
    "    print(f'\\nMAE Score: {mae_score:.4f}')\n",
    "    return mae_score\n",
    "\n",
    "def inference_test(model, test_loader, device):\n",
    "    model.to(device)\n",
    "    model.eval()\n",
    "    all_preds = []\n",
    "\n",
    "    with torch.no_grad():\n",
    "        for batch in tqdm(test_loader):\n",
    "            X_cnn, X_mlp = batch\n",
    "            X_cnn, X_mlp = X_cnn.to(device), X_mlp.to(device)\n",
    "\n",
    "            y_pred = model(X_cnn, X_mlp)\n",
    "            all_preds.append(y_pred.cpu().numpy().reshape(-1,1))\n",
    "            \n",
    "        output = np.vstack(all_preds)\n",
    "\n",
    "    return output\n",
    "\n"
   ]
  },
  {
   "cell_type": "code",
   "execution_count": 2,
   "metadata": {},
   "outputs": [
    {
     "name": "stdout",
     "output_type": "stream",
     "text": [
      "X.shape: torch.Size([1515867, 43, 28]), train_data_ length: 1515867\n"
     ]
    },
    {
     "name": "stderr",
     "output_type": "stream",
     "text": [
      "1515867it [02:06, 11959.94it/s]\n",
      "/data/ephemeral/home/jaeeun/level2-competitiveds-recsys-01/code/utils/datasets.py:95: UserWarning: To copy construct from a tensor, it is recommended to use sourceTensor.clone().detach() or sourceTensor.clone().detach().requires_grad_(True), rather than torch.tensor(sourceTensor).\n",
      "  self.X = torch.tensor(X, dtype=torch.float32).unsqueeze(1)\n",
      "/data/ephemeral/home/jaeeun/level2-competitiveds-recsys-01/code/utils/datasets.py:96: UserWarning: To copy construct from a tensor, it is recommended to use sourceTensor.clone().detach() or sourceTensor.clone().detach().requires_grad_(True), rather than torch.tensor(sourceTensor).\n",
      "  self.y = torch.tensor(y, dtype=torch.float32).unsqueeze(1)\n"
     ]
    },
    {
     "name": "stdout",
     "output_type": "stream",
     "text": [
      "clustering apply ...\n",
      "start to cleaning outliers...\n",
      "train, valid, test split for preprocessing & feature engineering ...\n",
      "start to preprocessing...\n"
     ]
    },
    {
     "name": "stderr",
     "output_type": "stream",
     "text": [
      "/data/ephemeral/home/jaeeun/level2-competitiveds-recsys-01/code/preprocessing.py:64: SettingWithCopyWarning: \n",
      "A value is trying to be set on a copy of a slice from a DataFrame.\n",
      "Try using .loc[row_indexer,col_indexer] = value instead\n",
      "\n",
      "See the caveats in the documentation: https://pandas.pydata.org/pandas-docs/stable/user_guide/indexing.html#returning-a-view-versus-a-copy\n",
      "  df[column] = df[column].map(map_dict).astype('category')\n"
     ]
    },
    {
     "name": "stdout",
     "output_type": "stream",
     "text": [
      "start to feature engineering...\n",
      "create clustering features\n"
     ]
    },
    {
     "name": "stderr",
     "output_type": "stream",
     "text": [
      "/data/ephemeral/home/jaeeun/level2-competitiveds-recsys-01/code/features/clustering_features.py:62: SettingWithCopyWarning: \n",
      "A value is trying to be set on a copy of a slice from a DataFrame.\n",
      "Try using .loc[row_indexer,col_indexer] = value instead\n",
      "\n",
      "See the caveats in the documentation: https://pandas.pydata.org/pandas-docs/stable/user_guide/indexing.html#returning-a-view-versus-a-copy\n",
      "  test_data['cluster'] = kmeans.predict(test_data[['latitude', 'longitude']])\n",
      "/data/ephemeral/home/jaeeun/level2-competitiveds-recsys-01/code/features/clustering_features.py:66: SettingWithCopyWarning: \n",
      "A value is trying to be set on a copy of a slice from a DataFrame.\n",
      "Try using .loc[row_indexer,col_indexer] = value instead\n",
      "\n",
      "See the caveats in the documentation: https://pandas.pydata.org/pandas-docs/stable/user_guide/indexing.html#returning-a-view-versus-a-copy\n",
      "  test_data['cluster'] = test_data['cluster'].astype('category')\n",
      "/data/ephemeral/home/jaeeun/level2-competitiveds-recsys-01/code/features/clustering_features.py:33: FutureWarning: The default of observed=False is deprecated and will be changed to True in a future version of pandas. Pass observed=False to retain current behavior or observed=True to adopt the future default and silence this warning.\n",
      "  cluster_density = train_data.groupby('cluster').size().reset_index(name='density')\n"
     ]
    },
    {
     "name": "stdout",
     "output_type": "stream",
     "text": [
      "create distance features\n",
      "create other features\n",
      "create count features\n",
      "Loading pre-calculated transaction data for 3 months.\n",
      "standardization...\n"
     ]
    },
    {
     "name": "stderr",
     "output_type": "stream",
     "text": [
      "198549it [00:16, 12047.34it/s]\n",
      "/data/ephemeral/home/jaeeun/level2-competitiveds-recsys-01/code/utils/datasets.py:107: UserWarning: To copy construct from a tensor, it is recommended to use sourceTensor.clone().detach() or sourceTensor.clone().detach().requires_grad_(True), rather than torch.tensor(sourceTensor).\n",
      "  self.X = torch.tensor(X, dtype=torch.float32).unsqueeze(1)\n",
      "/data/ephemeral/home/jaeeun/level2-competitiveds-recsys-01/code/utils/datasets.py:108: UserWarning: To copy construct from a tensor, it is recommended to use sourceTensor.clone().detach() or sourceTensor.clone().detach().requires_grad_(True), rather than torch.tensor(sourceTensor).\n",
      "  self.y = torch.tensor(y, dtype=torch.float32).unsqueeze(1)\n"
     ]
    },
    {
     "name": "stdout",
     "output_type": "stream",
     "text": [
      "clustering apply ...\n",
      "start to cleaning outliers...\n",
      "train, valid, test split for preprocessing & feature engineering ...\n",
      "start to preprocessing...\n"
     ]
    },
    {
     "name": "stderr",
     "output_type": "stream",
     "text": [
      "/data/ephemeral/home/jaeeun/level2-competitiveds-recsys-01/code/preprocessing.py:64: SettingWithCopyWarning: \n",
      "A value is trying to be set on a copy of a slice from a DataFrame.\n",
      "Try using .loc[row_indexer,col_indexer] = value instead\n",
      "\n",
      "See the caveats in the documentation: https://pandas.pydata.org/pandas-docs/stable/user_guide/indexing.html#returning-a-view-versus-a-copy\n",
      "  df[column] = df[column].map(map_dict).astype('category')\n"
     ]
    },
    {
     "name": "stdout",
     "output_type": "stream",
     "text": [
      "start to feature engineering...\n",
      "create clustering features\n"
     ]
    },
    {
     "name": "stderr",
     "output_type": "stream",
     "text": [
      "/data/ephemeral/home/jaeeun/level2-competitiveds-recsys-01/code/features/clustering_features.py:62: SettingWithCopyWarning: \n",
      "A value is trying to be set on a copy of a slice from a DataFrame.\n",
      "Try using .loc[row_indexer,col_indexer] = value instead\n",
      "\n",
      "See the caveats in the documentation: https://pandas.pydata.org/pandas-docs/stable/user_guide/indexing.html#returning-a-view-versus-a-copy\n",
      "  test_data['cluster'] = kmeans.predict(test_data[['latitude', 'longitude']])\n",
      "/data/ephemeral/home/jaeeun/level2-competitiveds-recsys-01/code/features/clustering_features.py:66: SettingWithCopyWarning: \n",
      "A value is trying to be set on a copy of a slice from a DataFrame.\n",
      "Try using .loc[row_indexer,col_indexer] = value instead\n",
      "\n",
      "See the caveats in the documentation: https://pandas.pydata.org/pandas-docs/stable/user_guide/indexing.html#returning-a-view-versus-a-copy\n",
      "  test_data['cluster'] = test_data['cluster'].astype('category')\n",
      "/data/ephemeral/home/jaeeun/level2-competitiveds-recsys-01/code/features/clustering_features.py:33: FutureWarning: The default of observed=False is deprecated and will be changed to True in a future version of pandas. Pass observed=False to retain current behavior or observed=True to adopt the future default and silence this warning.\n",
      "  cluster_density = train_data.groupby('cluster').size().reset_index(name='density')\n"
     ]
    },
    {
     "name": "stdout",
     "output_type": "stream",
     "text": [
      "create distance features\n",
      "create other features\n",
      "create count features\n",
      "Loading pre-calculated transaction data for 3 months.\n",
      "standardization...\n"
     ]
    },
    {
     "name": "stderr",
     "output_type": "stream",
     "text": [
      "150172it [00:12, 11918.98it/s]\n",
      "/data/ephemeral/home/jaeeun/level2-competitiveds-recsys-01/code/utils/datasets.py:117: UserWarning: To copy construct from a tensor, it is recommended to use sourceTensor.clone().detach() or sourceTensor.clone().detach().requires_grad_(True), rather than torch.tensor(sourceTensor).\n",
      "  self.X = torch.tensor(X, dtype=torch.float32).unsqueeze(1)\n"
     ]
    },
    {
     "name": "stdout",
     "output_type": "stream",
     "text": [
      "clustering apply ...\n",
      "start to cleaning outliers...\n",
      "train, valid, test split for preprocessing & feature engineering ...\n",
      "start to preprocessing...\n"
     ]
    },
    {
     "name": "stderr",
     "output_type": "stream",
     "text": [
      "/data/ephemeral/home/jaeeun/level2-competitiveds-recsys-01/code/preprocessing.py:64: SettingWithCopyWarning: \n",
      "A value is trying to be set on a copy of a slice from a DataFrame.\n",
      "Try using .loc[row_indexer,col_indexer] = value instead\n",
      "\n",
      "See the caveats in the documentation: https://pandas.pydata.org/pandas-docs/stable/user_guide/indexing.html#returning-a-view-versus-a-copy\n",
      "  df[column] = df[column].map(map_dict).astype('category')\n"
     ]
    },
    {
     "name": "stdout",
     "output_type": "stream",
     "text": [
      "start to feature engineering...\n",
      "create clustering features\n"
     ]
    },
    {
     "name": "stderr",
     "output_type": "stream",
     "text": [
      "/data/ephemeral/home/jaeeun/level2-competitiveds-recsys-01/code/features/clustering_features.py:62: SettingWithCopyWarning: \n",
      "A value is trying to be set on a copy of a slice from a DataFrame.\n",
      "Try using .loc[row_indexer,col_indexer] = value instead\n",
      "\n",
      "See the caveats in the documentation: https://pandas.pydata.org/pandas-docs/stable/user_guide/indexing.html#returning-a-view-versus-a-copy\n",
      "  test_data['cluster'] = kmeans.predict(test_data[['latitude', 'longitude']])\n",
      "/data/ephemeral/home/jaeeun/level2-competitiveds-recsys-01/code/features/clustering_features.py:66: SettingWithCopyWarning: \n",
      "A value is trying to be set on a copy of a slice from a DataFrame.\n",
      "Try using .loc[row_indexer,col_indexer] = value instead\n",
      "\n",
      "See the caveats in the documentation: https://pandas.pydata.org/pandas-docs/stable/user_guide/indexing.html#returning-a-view-versus-a-copy\n",
      "  test_data['cluster'] = test_data['cluster'].astype('category')\n",
      "/data/ephemeral/home/jaeeun/level2-competitiveds-recsys-01/code/features/clustering_features.py:33: FutureWarning: The default of observed=False is deprecated and will be changed to True in a future version of pandas. Pass observed=False to retain current behavior or observed=True to adopt the future default and silence this warning.\n",
      "  cluster_density = train_data.groupby('cluster').size().reset_index(name='density')\n"
     ]
    },
    {
     "name": "stdout",
     "output_type": "stream",
     "text": [
      "create distance features\n",
      "create other features\n",
      "create count features\n",
      "Loading pre-calculated transaction data for 3 months.\n",
      "standardization...\n"
     ]
    }
   ],
   "source": [
    "from utils.datasets import CombinedDataset\n",
    "from torch.utils.data import DataLoader\n",
    "\n",
    "train_set = CombinedDataset(mode='train')\n",
    "valid_set = CombinedDataset(mode='valid')\n",
    "test_set = CombinedDataset(mode='test')\n",
    "\n",
    "train_loader = DataLoader(dataset=train_set, batch_size = 64, shuffle=False)\n",
    "valid_loader = DataLoader(dataset=valid_set, batch_size=64, shuffle=False)\n",
    "test_loader = DataLoader(dataset=test_set, batch_size=64, shuffle=False)"
   ]
  },
  {
   "cell_type": "code",
   "execution_count": 11,
   "metadata": {},
   "outputs": [
    {
     "name": "stdout",
     "output_type": "stream",
     "text": [
      "feature 수 :  36\n"
     ]
    }
   ],
   "source": [
    "mlp_input = len(train_set.mlp[0][0][0])\n",
    "print(\"feature 수 : \", mlp_input)\n",
    "\n",
    "# batch 단위로 학습\n",
    "device = 'cuda'\n",
    "\n",
    "model = CombinedModel(mlp_input).to(device)\n",
    "criterion = nn.L1Loss()\n",
    "optimizer = optim.Adam(model.parameters(), lr=0.001)\n",
    "epochs = 100\n",
    "losses = []"
   ]
  },
  {
   "cell_type": "code",
   "execution_count": 12,
   "metadata": {},
   "outputs": [
    {
     "name": "stderr",
     "output_type": "stream",
     "text": [
      "100%|██████████| 23686/23686 [01:27<00:00, 271.57it/s]\n",
      "  1%|          | 1/100 [01:27<2:23:54, 87.22s/it]"
     ]
    },
    {
     "name": "stdout",
     "output_type": "stream",
     "text": [
      "Epoch 1, Loss: 222072585.99865723\n"
     ]
    },
    {
     "name": "stderr",
     "output_type": "stream",
     "text": [
      "100%|██████████| 23686/23686 [01:26<00:00, 272.29it/s]\n",
      "  2%|▏         | 2/100 [02:54<2:22:14, 87.09s/it]"
     ]
    },
    {
     "name": "stdout",
     "output_type": "stream",
     "text": [
      "Epoch 2, Loss: 186963191.78479004\n"
     ]
    },
    {
     "name": "stderr",
     "output_type": "stream",
     "text": [
      "100%|██████████| 23686/23686 [01:26<00:00, 272.47it/s]\n",
      "  3%|▎         | 3/100 [04:21<2:20:40, 87.02s/it]"
     ]
    },
    {
     "name": "stdout",
     "output_type": "stream",
     "text": [
      "Epoch 3, Loss: 181932880.78964233\n"
     ]
    },
    {
     "name": "stderr",
     "output_type": "stream",
     "text": [
      "100%|██████████| 23686/23686 [01:27<00:00, 271.39it/s]\n",
      "  4%|▍         | 4/100 [05:48<2:19:23, 87.12s/it]"
     ]
    },
    {
     "name": "stdout",
     "output_type": "stream",
     "text": [
      "Epoch 4, Loss: 179127008.4472046\n"
     ]
    },
    {
     "name": "stderr",
     "output_type": "stream",
     "text": [
      "100%|██████████| 23686/23686 [01:27<00:00, 271.47it/s]\n",
      "  5%|▌         | 5/100 [07:15<2:18:01, 87.17s/it]"
     ]
    },
    {
     "name": "stdout",
     "output_type": "stream",
     "text": [
      "Epoch 5, Loss: 177106999.3408203\n"
     ]
    },
    {
     "name": "stderr",
     "output_type": "stream",
     "text": [
      "100%|██████████| 23686/23686 [01:27<00:00, 271.44it/s]\n",
      "  6%|▌         | 6/100 [08:42<2:16:36, 87.20s/it]"
     ]
    },
    {
     "name": "stdout",
     "output_type": "stream",
     "text": [
      "Epoch 6, Loss: 175732214.7052002\n"
     ]
    },
    {
     "name": "stderr",
     "output_type": "stream",
     "text": [
      "100%|██████████| 23686/23686 [01:27<00:00, 271.57it/s]\n",
      "  7%|▋         | 7/100 [10:10<2:15:10, 87.21s/it]"
     ]
    },
    {
     "name": "stdout",
     "output_type": "stream",
     "text": [
      "Epoch 7, Loss: 174490581.96426392\n"
     ]
    },
    {
     "name": "stderr",
     "output_type": "stream",
     "text": [
      "100%|██████████| 23686/23686 [01:27<00:00, 270.93it/s]\n",
      "  8%|▊         | 8/100 [11:37<2:13:49, 87.28s/it]"
     ]
    },
    {
     "name": "stdout",
     "output_type": "stream",
     "text": [
      "Epoch 8, Loss: 172506241.40719604\n"
     ]
    },
    {
     "name": "stderr",
     "output_type": "stream",
     "text": [
      "100%|██████████| 23686/23686 [01:27<00:00, 270.64it/s]\n",
      "  9%|▉         | 9/100 [13:05<2:12:29, 87.36s/it]"
     ]
    },
    {
     "name": "stdout",
     "output_type": "stream",
     "text": [
      "Epoch 9, Loss: 169370388.08114624\n"
     ]
    },
    {
     "name": "stderr",
     "output_type": "stream",
     "text": [
      "100%|██████████| 23686/23686 [01:27<00:00, 270.43it/s]\n",
      " 10%|█         | 10/100 [14:32<2:11:08, 87.43s/it]"
     ]
    },
    {
     "name": "stdout",
     "output_type": "stream",
     "text": [
      "Epoch 10, Loss: 167706411.50506592\n"
     ]
    },
    {
     "name": "stderr",
     "output_type": "stream",
     "text": [
      "100%|██████████| 23686/23686 [01:27<00:00, 270.93it/s]\n",
      " 11%|█         | 11/100 [16:00<2:09:41, 87.43s/it]"
     ]
    },
    {
     "name": "stdout",
     "output_type": "stream",
     "text": [
      "Epoch 11, Loss: 166663524.61187744\n"
     ]
    },
    {
     "name": "stderr",
     "output_type": "stream",
     "text": [
      "100%|██████████| 23686/23686 [01:27<00:00, 271.18it/s]\n",
      " 12%|█▏        | 12/100 [17:27<2:08:11, 87.40s/it]"
     ]
    },
    {
     "name": "stdout",
     "output_type": "stream",
     "text": [
      "Epoch 12, Loss: 165871921.71347046\n"
     ]
    },
    {
     "name": "stderr",
     "output_type": "stream",
     "text": [
      "100%|██████████| 23686/23686 [01:27<00:00, 270.12it/s]\n",
      " 13%|█▎        | 13/100 [18:55<2:06:51, 87.49s/it]"
     ]
    },
    {
     "name": "stdout",
     "output_type": "stream",
     "text": [
      "Epoch 13, Loss: 165453037.07666016\n"
     ]
    },
    {
     "name": "stderr",
     "output_type": "stream",
     "text": [
      "100%|██████████| 23686/23686 [01:27<00:00, 271.04it/s]\n",
      " 14%|█▍        | 14/100 [20:22<2:05:21, 87.46s/it]"
     ]
    },
    {
     "name": "stdout",
     "output_type": "stream",
     "text": [
      "Epoch 14, Loss: 165007194.94766235\n"
     ]
    },
    {
     "name": "stderr",
     "output_type": "stream",
     "text": [
      "100%|██████████| 23686/23686 [01:27<00:00, 271.85it/s]\n",
      " 15%|█▌        | 15/100 [21:49<2:03:45, 87.36s/it]"
     ]
    },
    {
     "name": "stdout",
     "output_type": "stream",
     "text": [
      "Epoch 15, Loss: 164397314.5742798\n"
     ]
    },
    {
     "name": "stderr",
     "output_type": "stream",
     "text": [
      "100%|██████████| 23686/23686 [01:27<00:00, 270.55it/s]\n",
      " 16%|█▌        | 16/100 [23:17<2:02:23, 87.42s/it]"
     ]
    },
    {
     "name": "stdout",
     "output_type": "stream",
     "text": [
      "Epoch 16, Loss: 163825131.92730713\n"
     ]
    },
    {
     "name": "stderr",
     "output_type": "stream",
     "text": [
      "100%|██████████| 23686/23686 [01:27<00:00, 271.02it/s]\n",
      " 17%|█▋        | 17/100 [24:44<2:00:55, 87.41s/it]"
     ]
    },
    {
     "name": "stdout",
     "output_type": "stream",
     "text": [
      "Epoch 17, Loss: 163318251.44381714\n"
     ]
    },
    {
     "name": "stderr",
     "output_type": "stream",
     "text": [
      "100%|██████████| 23686/23686 [01:27<00:00, 270.92it/s]\n",
      " 18%|█▊        | 18/100 [26:12<1:59:28, 87.42s/it]"
     ]
    },
    {
     "name": "stdout",
     "output_type": "stream",
     "text": [
      "Epoch 18, Loss: 162866280.27157593\n"
     ]
    },
    {
     "name": "stderr",
     "output_type": "stream",
     "text": [
      "100%|██████████| 23686/23686 [01:27<00:00, 271.53it/s]\n",
      " 19%|█▉        | 19/100 [27:39<1:57:56, 87.36s/it]"
     ]
    },
    {
     "name": "stdout",
     "output_type": "stream",
     "text": [
      "Epoch 19, Loss: 162369190.33258057\n"
     ]
    },
    {
     "name": "stderr",
     "output_type": "stream",
     "text": [
      "100%|██████████| 23686/23686 [01:27<00:00, 271.50it/s]\n",
      " 20%|██        | 20/100 [29:06<1:56:26, 87.33s/it]"
     ]
    },
    {
     "name": "stdout",
     "output_type": "stream",
     "text": [
      "Epoch 20, Loss: 161881720.84951782\n"
     ]
    },
    {
     "name": "stderr",
     "output_type": "stream",
     "text": [
      "100%|██████████| 23686/23686 [01:27<00:00, 271.45it/s]\n",
      " 21%|██        | 21/100 [30:33<1:54:57, 87.31s/it]"
     ]
    },
    {
     "name": "stdout",
     "output_type": "stream",
     "text": [
      "Epoch 21, Loss: 161226927.89904785\n"
     ]
    },
    {
     "name": "stderr",
     "output_type": "stream",
     "text": [
      "100%|██████████| 23686/23686 [01:26<00:00, 272.31it/s]\n",
      " 22%|██▏       | 22/100 [32:00<1:53:22, 87.21s/it]"
     ]
    },
    {
     "name": "stdout",
     "output_type": "stream",
     "text": [
      "Epoch 22, Loss: 160771091.37542725\n"
     ]
    },
    {
     "name": "stderr",
     "output_type": "stream",
     "text": [
      "100%|██████████| 23686/23686 [01:27<00:00, 271.39it/s]\n",
      " 23%|██▎       | 23/100 [33:28<1:51:56, 87.23s/it]"
     ]
    },
    {
     "name": "stdout",
     "output_type": "stream",
     "text": [
      "Epoch 23, Loss: 160440048.7347107\n"
     ]
    },
    {
     "name": "stderr",
     "output_type": "stream",
     "text": [
      "100%|██████████| 23686/23686 [01:27<00:00, 271.36it/s]\n",
      " 24%|██▍       | 24/100 [34:55<1:50:30, 87.25s/it]"
     ]
    },
    {
     "name": "stdout",
     "output_type": "stream",
     "text": [
      "Epoch 24, Loss: 160035276.67156982\n"
     ]
    },
    {
     "name": "stderr",
     "output_type": "stream",
     "text": [
      "100%|██████████| 23686/23686 [01:27<00:00, 271.90it/s]\n",
      " 25%|██▌       | 25/100 [36:22<1:49:00, 87.21s/it]"
     ]
    },
    {
     "name": "stdout",
     "output_type": "stream",
     "text": [
      "Epoch 25, Loss: 159606521.8881836\n"
     ]
    },
    {
     "name": "stderr",
     "output_type": "stream",
     "text": []
    }
   ],
   "source": [
    "train(model = model, train_loader= train_loader, loss_fn = criterion, optimizer = optimizer, epochs = epochs, device = device, losses = losses)"
   ]
  },
  {
   "cell_type": "code",
   "execution_count": 20,
   "metadata": {},
   "outputs": [
    {
     "data": {
      "image/png": "[encoded data removed]",
      "text/plain": [
       "<Figure size 640x480 with 1 Axes>"
      ]
     },
     "metadata": {},
     "output_type": "display_data"
    }
   ],
   "source": [
    "import matplotlib.pyplot as plt\n",
    "\n",
    "plt.plot(range(32), losses)\n",
    "plt.xlabel('Epoch')\n",
    "plt.ylabel('Loss')\n",
    "plt.title('Loss over Epochs')\n",
    "plt.show()"
   ]
  },
  {
   "cell_type": "code",
   "execution_count": null,
   "metadata": {},
   "outputs": [
    {
     "ename": "AttributeError",
     "evalue": "module 'model' has no attribute 'train'",
     "output_type": "error",
     "traceback": [
      "\u001b[0;31m---------------------------------------------------------------------------\u001b[0m\n",
      "\u001b[0;31mAttributeError\u001b[0m                            Traceback (most recent call last)\n",
      "Cell \u001b[0;32mIn[26], line 1\u001b[0m\n",
      "\u001b[0;32m----> 1\u001b[0m train(model \u001b[39m=\u001b[39;49m model, train_loader\u001b[39m=\u001b[39;49m train_loader, loss_fn \u001b[39m=\u001b[39;49m criterion, optimizer \u001b[39m=\u001b[39;49m optimizer, epochs \u001b[39m=\u001b[39;49m epochs, device \u001b[39m=\u001b[39;49m device, losses \u001b[39m=\u001b[39;49m losses)\n",
      "\n",
      "Cell \u001b[0;32mIn[11], line 8\u001b[0m, in \u001b[0;36mtrain\u001b[0;34m(model, train_loader, loss_fn, optimizer, epochs, device, losses)\u001b[0m\n",
      "\u001b[1;32m      5\u001b[0m \u001b[39mdef\u001b[39;00m \u001b[39mtrain\u001b[39m(model, train_loader, loss_fn, optimizer, epochs, device, losses):\n",
      "\u001b[1;32m      6\u001b[0m \n",
      "\u001b[1;32m      7\u001b[0m     \u001b[39m# train 모드로 설정\u001b[39;00m\n",
      "\u001b[0;32m----> 8\u001b[0m     model\u001b[39m.\u001b[39;49mtrain()\n",
      "\u001b[1;32m     10\u001b[0m     \u001b[39mfor\u001b[39;00m epoch \u001b[39min\u001b[39;00m tqdm(\u001b[39mrange\u001b[39m(epochs)):\n",
      "\u001b[1;32m     11\u001b[0m         epoch_loss \u001b[39m=\u001b[39m \u001b[39m0.0\u001b[39m\n",
      "\n",
      "\u001b[0;31mAttributeError\u001b[0m: module 'model' has no attribute 'train'"
     ]
    }
   ],
   "source": [
    "train(model = model, train_loader= train_loader, loss_fn = criterion, optimizer = optimizer, epochs = epochs, device = device, losses = losses)"
   ]
  },
  {
   "cell_type": "code",
   "execution_count": null,
   "metadata": {},
   "outputs": [],
   "source": [
    "plt.plot(range(1, epochs+1), losses)\n",
    "plt.xlabel('Epoch')\n",
    "plt.ylabel('Loss')\n",
    "plt.title('Loss over Epochs')\n",
    "plt.show()"
   ]
  },
  {
   "cell_type": "code",
   "execution_count": null,
   "metadata": {},
   "outputs": [],
   "source": [
    "# validation score\n",
    "mae = validate(model=model, valid_loader=valid_loader, device=device)"
   ]
  }
 ],
 "metadata": {
  "kernelspec": {
   "display_name": "myenv",
   "language": "python",
   "name": "python3"
  },
  "language_info": {
   "codemirror_mode": {
    "name": "ipython",
    "version": 3
   },
   "file_extension": ".py",
   "mimetype": "text/x-python",
   "name": "python",
   "nbconvert_exporter": "python",
   "pygments_lexer": "ipython3",
   "version": "3.11.10"
  },
  "orig_nbformat": 4
 },
 "nbformat": 4,
 "nbformat_minor": 2
}
