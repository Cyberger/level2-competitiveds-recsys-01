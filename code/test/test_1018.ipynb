{
 "cells": [
  {
   "cell_type": "markdown",
   "metadata": {},
   "source": [
    "#### library"
   ]
  },
  {
   "cell_type": "code",
   "execution_count": 46,
   "metadata": {},
   "outputs": [],
   "source": [
    "import os\n",
    "import pandas as pd\n",
    "import numpy as np\n",
    "import lightgbm as lgb\n",
    "import matplotlib.pyplot as plt\n",
    "import seaborn as sns\n",
    "from haversine import haversine, Unit\n",
    "import sys\n",
    "from datetime import datetime, timedelta\n",
    "from geopy.distance import great_circle\n",
    "\n",
    "from sklearn.neighbors import KDTree, BallTree\n",
    "from sklearn.metrics import mean_absolute_error\n",
    "from sklearn.preprocessing import LabelEncoder, OneHotEncoder, StandardScaler, MinMaxScaler\n",
    "from sklearn.ensemble import RandomForestRegressor, VotingRegressor, StackingRegressor, GradientBoostingRegressor\n",
    "import optuna\n",
    "import catboost as cb\n",
    "\n",
    "from tqdm import tqdm\n",
    "import warnings\n",
    "warnings.filterwarnings('ignore')\n",
    "\n",
    "utils_directory = os.path.abspath('..')\n",
    "sys.path.append(utils_directory)\n",
    "\n",
    "import preprocessing\n",
    "\n",
    "from utils.constant_utils import Directory\n",
    "from utils import common_utils\n",
    "\n",
    "import model\n",
    "from inference import *\n",
    "\n",
    "features_directory = os.path.abspath('../features')\n",
    "sys.path.append(features_directory)\n",
    "\n",
    "from clustering_features import *\n",
    "from count_features import *\n",
    "from distance_features import *\n",
    "from other_features import *"
   ]
  },
  {
   "cell_type": "markdown",
   "metadata": {},
   "source": [
    "#### data load"
   ]
  },
  {
   "cell_type": "code",
   "execution_count": 47,
   "metadata": {},
   "outputs": [
    {
     "name": "stdout",
     "output_type": "stream",
     "text": [
      "Start the main.py successfully!\n",
      "total data load ...\n"
     ]
    }
   ],
   "source": [
    " print(\"Start the main.py successfully!\")\n",
    "\n",
    "'''\n",
    "name : 실험자 이름입니다.\n",
    "title : result 폴더에 저장될 실험명을 지정합니다.\n",
    "'''\n",
    "name = 'eun'\n",
    "title = 'cluster,timefeature,categorical,drop,gangnam,xgb1000'\n",
    "\n",
    "print(\"total data load ...\")\n",
    "df = common_utils.merge_data(Directory.train_data, Directory.test_data)"
   ]
  },
  {
   "cell_type": "code",
   "execution_count": 48,
   "metadata": {},
   "outputs": [
    {
     "name": "stdout",
     "output_type": "stream",
     "text": [
      "clustering apply ...\n",
      "start to cleaning outliers...\n",
      "train, valid, test split for preprocessing & feature engineering ...\n",
      "start to preprocessing...\n",
      "start to feature engineering...\n",
      "create clustering features\n",
      "create distance features\n",
      "create other features\n",
      "create count features\n",
      "Loading pre-calculated transaction data for 3 months.\n"
     ]
    }
   ],
   "source": [
    "### 클러스터 피처 apply\n",
    "print(\"clustering apply ...\")\n",
    "for info_df_name in ['subway_info', 'school_info', 'park_info']:\n",
    "    info_df = getattr(Directory, info_df_name)  \n",
    "    df = clustering(df, info_df, feat_name=info_df_name, n_clusters=20)\n",
    "\n",
    "### 이상치 처리\n",
    "print(\"start to cleaning outliers...\")\n",
    "df = preprocessing.handle_age_outliers(df)\n",
    "\n",
    "### 데이터 분할\n",
    "print(\"train, valid, test split for preprocessing & feature engineering ...\")\n",
    "train_data_, valid_data_, test_data_ = common_utils.train_valid_test_split(df)\n",
    "\n",
    "\n",
    "### 데이터 전처리\n",
    "print(\"start to preprocessing...\")\n",
    "# type 카테고리화\n",
    "train_data_ = preprocessing.numeric_to_categoric(train_data_, 'contract_type', {0:'new', 1:'renew', 2:'unknown'})\n",
    "valid_data_ = preprocessing.numeric_to_categoric(valid_data_, 'contract_type', {0:'new', 1:'renew', 2:'unknown'})\n",
    "test_data_ = preprocessing.numeric_to_categoric(test_data_, 'contract_type', {0:'new', 1:'renew', 2:'unknown'})\n",
    "\n",
    "# 중복 제거\n",
    "train_data_ = preprocessing.handle_duplicates(train_data_)\n",
    "valid_data_ = preprocessing.handle_duplicates(valid_data_)\n",
    "\n",
    "# 로그 변환\n",
    "#df = preprocessing_fn.log_transform(df, 'deposit')\n",
    "\n",
    "\n",
    "### 피처 엔지니어링\n",
    "print(\"start to feature engineering...\")\n",
    "# clustering_feature\n",
    "print(\"create clustering features\")\n",
    "train_data, valid_data, test_data = create_clustering_target(train_data_, valid_data_, test_data_)\n",
    "\n",
    "# distance_features\n",
    "print(\"create distance features\")\n",
    "train_data, valid_data, test_data = distance_gangnam(train_data, valid_data, test_data)\n",
    "train_data, valid_data, test_data = create_nearest_subway_distance(train_data, valid_data, test_data)\n",
    "train_data, valid_data, test_data = create_nearest_park_distance_and_area(train_data, valid_data, test_data)\n",
    "train_data, valid_data, test_data = create_nearest_school_distance(train_data, valid_data, test_data)\n",
    "train_data, valid_data, test_data = weighted_subway_distance(train_data, valid_data, test_data)\n",
    "train_data, valid_data, test_data = create_nearest_park_distance_and_area(train_data, valid_data, test_data)\n",
    "\n",
    "# other_features\n",
    "print(\"create other features\")\n",
    "train_data, valid_data, test_data = create_temporal_feature(train_data, valid_data, test_data)\n",
    "train_data, valid_data, test_data = create_sin_cos_season(train_data, valid_data, test_data)\n",
    "train_data, valid_data, test_data = create_floor_area_interaction(train_data, valid_data, test_data)\n",
    "train_data, valid_data, test_data = create_sum_park_area_within_radius(train_data, valid_data, test_data)\n",
    "train_data, valid_data, test_data = shift_interest_rate_function(train_data, valid_data, test_data)\n",
    "train_data, valid_data, test_data = categorization(train_data, valid_data, test_data, category = 'age')\n",
    "train_data, valid_data, test_data = categorization(train_data, valid_data, test_data, category = 'floor')\n",
    "train_data, valid_data, test_data = categorization(train_data, valid_data, test_data, category = 'area_m2')\n",
    "\n",
    "\n",
    "# count_features\n",
    "print(\"create count features\")\n",
    "train_data, valid_data, test_data = transaction_count_function(train_data, valid_data, test_data)\n",
    "# 위의 함수를 바로 실행하기 위한 구조 : data/transaction_data에 train/valid/test_transaction_{month}.txt 구조의 파일이 있어야함\n",
    "train_data, valid_data, test_data = create_subway_within_radius(train_data, valid_data, test_data)\n",
    "train_data, valid_data, test_data = create_school_within_radius(train_data, valid_data, test_data)\n",
    "train_data, valid_data, test_data = create_school_counts_within_radius_by_school_level(train_data, valid_data, test_data)\n",
    "train_data, valid_data, test_data = create_place_within_radius(train_data, valid_data, test_data)"
   ]
  },
  {
   "cell_type": "markdown",
   "metadata": {},
   "source": [
    "###### load and save"
   ]
  },
  {
   "cell_type": "code",
   "execution_count": 5,
   "metadata": {},
   "outputs": [],
   "source": [
    "### data save\n",
    "common_utils.save_and_load_function('train', 'save','level2-competitiveds-recsys-01/data', 'csv', train_data)\n",
    "common_utils.save_and_load_function('valid', 'save','level2-competitiveds-recsys-01/data', 'csv', valid_data)\n",
    "common_utils.save_and_load_function('test', 'save','level2-competitiveds-recsys-01/data', 'csv', test_data)"
   ]
  },
  {
   "cell_type": "code",
   "execution_count": 3,
   "metadata": {},
   "outputs": [],
   "source": [
    "### data load\n",
    "train_data = common_utils.save_and_load_function('train', 'load','level2-competitiveds-recsys-01/data', 'csv')\n",
    "valid_data = common_utils.save_and_load_function('valid', 'load','level2-competitiveds-recsys-01/data', 'csv')\n",
    "test_data = common_utils.save_and_load_function('test', 'load','level2-competitiveds-recsys-01/data', 'csv')"
   ]
  },
  {
   "cell_type": "markdown",
   "metadata": {},
   "source": [
    "### modeling test"
   ]
  },
  {
   "cell_type": "markdown",
   "metadata": {},
   "source": [
    "#### 개별 model"
   ]
  },
  {
   "cell_type": "markdown",
   "metadata": {},
   "source": [
    "##### xgboost + feature importance + 상위 n개 importance로 한번 더 modeling  \n",
    "(결과)   \n",
    "validation score : 4706   \n",
    "public score : 3684"
   ]
  },
  {
   "cell_type": "code",
   "execution_count": 8,
   "metadata": {},
   "outputs": [
    {
     "name": "stdout",
     "output_type": "stream",
     "text": [
      "standardization...\n"
     ]
    }
   ],
   "source": [
    "print(\"standardization...\")\n",
    "train_data_, valid_data_, test_data_ = preprocessing.standardization(train_data, valid_data, test_data, scaling_type = 'standard')\n",
    "# feature selection\n",
    "train_data_scaled, valid_data_scaled, test_data_scaled = preprocessing.feature_selection(train_data_, valid_data_, test_data_)\n",
    "# feature split\n",
    "X_train, y_train, X_valid, y_valid, X_test = common_utils.split_feature_target(train_data_scaled, valid_data_scaled, test_data_scaled)"
   ]
  },
  {
   "cell_type": "code",
   "execution_count": 9,
   "metadata": {},
   "outputs": [],
   "source": [
    "model_ = model.xgboost(X_train, y_train)"
   ]
  },
  {
   "cell_type": "code",
   "execution_count": 11,
   "metadata": {},
   "outputs": [
    {
     "data": {
      "image/png": "[encoded data removed]",
      "text/plain": [
       "<Figure size 1500x1200 with 1 Axes>"
      ]
     },
     "metadata": {},
     "output_type": "display_data"
    }
   ],
   "source": [
    "# Feature importance 추출\n",
    "importance = model_.feature_importances_\n",
    "\n",
    "# Feature importance를 DataFrame으로 변환\n",
    "train_df = train_data_.copy()\n",
    "train_df = train_df.drop(columns = ['deposit'], axis=1)\n",
    "\n",
    "importance_df = pd.DataFrame({\n",
    "    'Feature': train_df.columns,\n",
    "    'Importance': importance\n",
    "}).sort_values(by='Importance', ascending=False)\n",
    "\n",
    "# Feature importance 시각화\n",
    "plt.figure(figsize=(15, 12))\n",
    "plt.barh(importance_df['Feature'], importance_df['Importance'], color='skyblue')\n",
    "plt.xlabel('Importance')\n",
    "plt.yticks(fontsize=8)\n",
    "plt.title('Feature Importance')\n",
    "plt.show()"
   ]
  },
  {
   "cell_type": "code",
   "execution_count": null,
   "metadata": {},
   "outputs": [],
   "source": [
    "# 상위 n개에 대한 modeling 함수\n",
    "def top_n_modeling(model_, train_data: pd.DataFrame, valid_data: pd.DataFrame, test_data: pd.DataFrame, top_n : int) -> tuple[pd.DataFrame, pd.DataFrame, pd.DataFrame]:\n",
    "    # Feature importance 추출\n",
    "    importance = model_.feature_importances_\n",
    "\n",
    "    # Feature importance를 DataFrame으로 변환\n",
    "    train_df = train_data_.copy()\n",
    "    train_df = train_df.drop(columns = ['deposit'], axis=1)\n",
    "\n",
    "    importance_df = pd.DataFrame({\n",
    "        'Feature': train_df.columns,\n",
    "        'Importance': importance\n",
    "        }).sort_values(by='Importance', ascending=False)\n",
    "    \n",
    "    top_n_features = list(importance_df.head(top_n)['Features'].values)\n",
    "    \n",
    "    # feature split\n",
    "    train_data_n = train_data_scaled[top_n_features + ['deposit']]\n",
    "    valid_data_n = valid_data_scaled[top_n_features + ['deposit']]\n",
    "    test_data_n = test_data_scaled[top_n_features]\n",
    "\n",
    "    X_train, y_train, X_valid, y_valid, X_test = common_utils.split_feature_target(train_data_n, valid_data_n, test_data_n)\n",
    "    \n",
    "    new_model = model.xgboost(X_train, y_train)\n",
    "    prediction, mae = inference(new_model, 'validation', X_valid, y_valid)\n",
    "    \n",
    "    return prediction, mae"
   ]
  },
  {
   "cell_type": "code",
   "execution_count": 17,
   "metadata": {},
   "outputs": [],
   "source": [
    "#### 상위 20개에 대한 데이터만 실험\n",
    "top_20_features = list(importance_df.head(20)['Feature'].values)"
   ]
  },
  {
   "cell_type": "code",
   "execution_count": 27,
   "metadata": {},
   "outputs": [
    {
     "data": {
      "text/plain": [
       "['distance_km',\n",
       " 'built_year',\n",
       " 'area_m2',\n",
       " 'cluster',\n",
       " 'contract_year_month',\n",
       " 'floor_area_interaction',\n",
       " 'subway_info',\n",
       " 'middle_schools_within_radius',\n",
       " 'contract_type',\n",
       " 'latitude',\n",
       " 'high_schools_within_radius',\n",
       " 'longitude',\n",
       " 'schools_within_radius',\n",
       " 'distance_to_centroid',\n",
       " 'nearest_park_area_sum',\n",
       " 'subways_within_radius',\n",
       " 'nearest_subway_distance_x',\n",
       " 'nearest_subway_distance_y',\n",
       " 'distance_category',\n",
       " 'elementary_schools_within_radius']"
      ]
     },
     "execution_count": 27,
     "metadata": {},
     "output_type": "execute_result"
    }
   ],
   "source": [
    "top_20_features"
   ]
  },
  {
   "cell_type": "code",
   "execution_count": 22,
   "metadata": {},
   "outputs": [],
   "source": [
    "# feature split\n",
    "train_data_20 = train_data_scaled[top_20_features + ['deposit']]\n",
    "valid_data_20 = valid_data_scaled[top_20_features + ['deposit']]\n",
    "test_data_20 = test_data_scaled[top_20_features]\n",
    "\n",
    "X_train, y_train, X_valid, y_valid, X_test = common_utils.split_feature_target(train_data_20, valid_data_20, test_data_20)"
   ]
  },
  {
   "cell_type": "code",
   "execution_count": 23,
   "metadata": {},
   "outputs": [
    {
     "name": "stdout",
     "output_type": "stream",
     "text": [
      "validation Mae score\n",
      "4377.878202392733\n"
     ]
    }
   ],
   "source": [
    "model_ = model.xgboost(X_train, y_train)\n",
    "prediction, mae = inference(model_, 'validation', X_valid, y_valid)"
   ]
  },
  {
   "cell_type": "code",
   "execution_count": 26,
   "metadata": {},
   "outputs": [
    {
     "name": "stdout",
     "output_type": "stream",
     "text": [
      "Training with total dataset...\n",
      "Successfully executed main.py.\n"
     ]
    }
   ],
   "source": [
    "# record MAE score as csv\n",
    "hyperparams = \"learning_rate=0.3, n_estimators=1000, enable_categorical=True, random_state=Config.RANDOM_SEED\"\n",
    "# train with total dataset\n",
    "print(\"Training with total dataset...\")\n",
    "X_total, y_total = common_utils.train_valid_concat(X_train, X_valid, y_train, y_valid)\n",
    "model_ = model.xgboost(X_total, y_total)\n",
    "\n",
    "# inference with test data\n",
    "submission = inference(model_, 'submission', X_test)\n",
    "\n",
    "# save sample submission\n",
    "submission_path = os.path.join(\"/data/ephemeral/home/level2-competitiveds-recsys-01/\", \"submission\")\n",
    "os.makedirs(submission_path, exist_ok=True)\n",
    "file_name = 'test_all_columns+xgboost'\n",
    "file_name += '_' + time.strftime('%x', time.localtime())[:5].replace('/','') + '.csv'\n",
    "\n",
    "submission_file_path = os.path.join(submission_path, 'test_all_columns+xgboost')\n",
    "submission.to_csv(submission_file_path, index=False, encoding='utf-8-sig')\n",
    "\n",
    "print(\"Successfully executed main.py.\")"
   ]
  },
  {
   "cell_type": "markdown",
   "metadata": {},
   "source": [
    "##### lightgbm + optuna"
   ]
  },
  {
   "cell_type": "code",
   "execution_count": 49,
   "metadata": {},
   "outputs": [
    {
     "name": "stdout",
     "output_type": "stream",
     "text": [
      "standardization...\n"
     ]
    }
   ],
   "source": [
    "print(\"standardization...\")\n",
    "train_data_, valid_data_, test_data_ = preprocessing.standardization(train_data, valid_data, test_data, scaling_type = 'standard')\n",
    "# feature selection\n",
    "train_data_scaled, valid_data_scaled, test_data_scaled = preprocessing.feature_selection(train_data_, valid_data_, test_data_)\n",
    "# feature split\n",
    "X_train, y_train, X_valid, y_valid, X_test = common_utils.split_feature_target(train_data_scaled, valid_data_scaled, test_data_scaled)"
   ]
  },
  {
   "cell_type": "code",
   "execution_count": 50,
   "metadata": {},
   "outputs": [
    {
     "name": "stdout",
     "output_type": "stream",
     "text": [
      "[LightGBM] [Info] Auto-choosing row-wise multi-threading, the overhead of testing was 0.072239 seconds.\n",
      "You can set `force_row_wise=true` to remove the overhead.\n",
      "And if memory is not enough, you can set `force_col_wise=true`.\n",
      "[LightGBM] [Info] Total Bins 4650\n",
      "[LightGBM] [Info] Number of data points in the train set: 1515867, number of used features: 47\n",
      "[LightGBM] [Info] Start training from score 37853.227009\n"
     ]
    }
   ],
   "source": [
    "model_ = model.lightgbm(X_train, y_train)"
   ]
  },
  {
   "cell_type": "code",
   "execution_count": 51,
   "metadata": {},
   "outputs": [],
   "source": [
    "# Feature importance 추출\n",
    "importance = model_.feature_importances_\n",
    "\n",
    "# Feature importance를 DataFrame으로 변환\n",
    "train_df = train_data_.copy()\n",
    "train_df = train_df.drop(columns = ['deposit'], axis=1)\n",
    "\n",
    "importance_df = pd.DataFrame({\n",
    "    'Feature': train_df.columns,\n",
    "    'Importance': importance\n",
    "}).sort_values(by='Importance', ascending=False)\n",
    "\n",
    "#### 상위 20개에 대한 데이터만 실험\n",
    "top_20_features = list(importance_df.head(20)['Feature'].values)"
   ]
  },
  {
   "cell_type": "code",
   "execution_count": 52,
   "metadata": {},
   "outputs": [],
   "source": [
    "# feature split\n",
    "train_data_20 = train_data_scaled[top_20_features + ['deposit']]\n",
    "valid_data_20 = valid_data_scaled[top_20_features + ['deposit']]\n",
    "test_data_20 = test_data_scaled[top_20_features]\n",
    "\n",
    "X_train, y_train, X_valid, y_valid, X_test = common_utils.split_feature_target(train_data_20, valid_data_20, test_data_20)"
   ]
  },
  {
   "cell_type": "code",
   "execution_count": 55,
   "metadata": {},
   "outputs": [
    {
     "name": "stderr",
     "output_type": "stream",
     "text": [
      "[I 2024-10-18 12:21:43,007] A new study created in memory with name: no-name-7d3ce1c6-4b4e-44c5-9825-3846c4b8e1eb\n",
      "[I 2024-10-18 12:21:44,894] Trial 0 finished with value: 18297.391278110503 and parameters: {'learning_rate': 0.0012171099037940252, 'num_leaves': 54, 'max_depth': 1, 'min_data_in_leaf': 10, 'feature_fraction': 0.13495790531774726, 'bagging_fraction': 0.12382061184551843, 'bagging_freq': 1, 'lambda_l1': 11.921152860788792, 'lambda_l2': 0.37705656654079894}. Best is trial 0 with value: 18297.391278110503.\n",
      "[I 2024-10-18 12:21:48,495] Trial 1 finished with value: 17556.074502555442 and parameters: {'learning_rate': 0.0010994840310124738, 'num_leaves': 217, 'max_depth': 6, 'min_data_in_leaf': 2, 'feature_fraction': 0.3350760906697563, 'bagging_fraction': 0.1846071977788742, 'bagging_freq': 7, 'lambda_l1': 0.2499352164215566, 'lambda_l2': 1.0305001181475896e-08}. Best is trial 1 with value: 17556.074502555442.\n",
      "[I 2024-10-18 12:21:55,454] Trial 2 finished with value: 5451.462624233273 and parameters: {'learning_rate': 0.08854118550346053, 'num_leaves': 104, 'max_depth': 15, 'min_data_in_leaf': 12, 'feature_fraction': 0.7457933826241022, 'bagging_fraction': 0.6846928045235703, 'bagging_freq': 7, 'lambda_l1': 0.00021986155932843165, 'lambda_l2': 0.15721963327089525}. Best is trial 2 with value: 5451.462624233273.\n",
      "[I 2024-10-18 12:22:00,915] Trial 3 finished with value: 8158.884631837559 and parameters: {'learning_rate': 0.01500249252328313, 'num_leaves': 150, 'max_depth': 13, 'min_data_in_leaf': 41, 'feature_fraction': 0.8204263159697363, 'bagging_fraction': 0.12672768040220891, 'bagging_freq': 3, 'lambda_l1': 3.787014452784288e-05, 'lambda_l2': 1.9976274584902614}. Best is trial 2 with value: 5451.462624233273.\n",
      "[I 2024-10-18 12:22:04,438] Trial 4 finished with value: 6590.28315614159 and parameters: {'learning_rate': 0.6070142688544555, 'num_leaves': 117, 'max_depth': 3, 'min_data_in_leaf': 41, 'feature_fraction': 0.7135782989760229, 'bagging_fraction': 0.5829782754446603, 'bagging_freq': 4, 'lambda_l1': 1.8815645714637045e-05, 'lambda_l2': 0.00027021009501584215}. Best is trial 2 with value: 5451.462624233273.\n",
      "[I 2024-10-18 12:22:10,362] Trial 5 finished with value: 16351.842020069731 and parameters: {'learning_rate': 0.0019528865353866489, 'num_leaves': 74, 'max_depth': 12, 'min_data_in_leaf': 18, 'feature_fraction': 0.7466533586672767, 'bagging_fraction': 0.5647854332720604, 'bagging_freq': 6, 'lambda_l1': 0.6946660355948164, 'lambda_l2': 0.00023958792496018292}. Best is trial 2 with value: 5451.462624233273.\n",
      "[I 2024-10-18 12:22:16,028] Trial 6 finished with value: 14728.896290019371 and parameters: {'learning_rate': 0.003543777309653384, 'num_leaves': 143, 'max_depth': 12, 'min_data_in_leaf': 10, 'feature_fraction': 0.5803238965858426, 'bagging_fraction': 0.16997834089253983, 'bagging_freq': 6, 'lambda_l1': 0.20826197118972656, 'lambda_l2': 0.3564051389350347}. Best is trial 2 with value: 5451.462624233273.\n",
      "[I 2024-10-18 12:22:22,390] Trial 7 finished with value: 5985.668961824517 and parameters: {'learning_rate': 0.04026389488646543, 'num_leaves': 138, 'max_depth': 11, 'min_data_in_leaf': 46, 'feature_fraction': 0.4821063911168355, 'bagging_fraction': 0.594074848735134, 'bagging_freq': 4, 'lambda_l1': 2.2228378616283876e-06, 'lambda_l2': 2.9488191519225745e-06}. Best is trial 2 with value: 5451.462624233273.\n",
      "[I 2024-10-18 12:22:25,975] Trial 8 finished with value: 9953.465699722912 and parameters: {'learning_rate': 0.05012695212719362, 'num_leaves': 133, 'max_depth': 4, 'min_data_in_leaf': 35, 'feature_fraction': 0.10341976538152797, 'bagging_fraction': 0.8460077959664118, 'bagging_freq': 5, 'lambda_l1': 88.90034494332681, 'lambda_l2': 5.44381371928693e-07}. Best is trial 2 with value: 5451.462624233273.\n",
      "[I 2024-10-18 12:22:29,685] Trial 9 finished with value: 11165.363850508857 and parameters: {'learning_rate': 0.995302533817478, 'num_leaves': 161, 'max_depth': 15, 'min_data_in_leaf': 4, 'feature_fraction': 0.8449145364987483, 'bagging_fraction': 0.11169451743163161, 'bagging_freq': 7, 'lambda_l1': 1.0425082443665242e-08, 'lambda_l2': 0.3362467208173635}. Best is trial 2 with value: 5451.462624233273.\n",
      "[I 2024-10-18 12:22:38,378] Trial 10 finished with value: 4896.7695280819935 and parameters: {'learning_rate': 0.19683518456129598, 'num_leaves': 252, 'max_depth': 8, 'min_data_in_leaf': 26, 'feature_fraction': 0.943315367460704, 'bagging_fraction': 0.9720659562248125, 'bagging_freq': 2, 'lambda_l1': 0.0027438729050622795, 'lambda_l2': 40.31103935095083}. Best is trial 10 with value: 4896.7695280819935.\n",
      "[I 2024-10-18 12:22:45,465] Trial 11 finished with value: 4918.243383826946 and parameters: {'learning_rate': 0.1828423584535225, 'num_leaves': 255, 'max_depth': 8, 'min_data_in_leaf': 25, 'feature_fraction': 0.9971084276094381, 'bagging_fraction': 0.9962660001771055, 'bagging_freq': 1, 'lambda_l1': 0.002631599025888658, 'lambda_l2': 58.822251170328926}. Best is trial 10 with value: 4896.7695280819935.\n",
      "[I 2024-10-18 12:22:52,267] Trial 12 finished with value: 4918.4222687005395 and parameters: {'learning_rate': 0.17359276522764927, 'num_leaves': 255, 'max_depth': 8, 'min_data_in_leaf': 26, 'feature_fraction': 0.9879715603401414, 'bagging_fraction': 0.9855122126034243, 'bagging_freq': 1, 'lambda_l1': 0.008002061389158665, 'lambda_l2': 32.22626803136449}. Best is trial 10 with value: 4896.7695280819935.\n",
      "[I 2024-10-18 12:23:02,043] Trial 13 finished with value: 4876.948304683502 and parameters: {'learning_rate': 0.234053390199272, 'num_leaves': 209, 'max_depth': 8, 'min_data_in_leaf': 26, 'feature_fraction': 0.9985413990068847, 'bagging_fraction': 0.9951096387955352, 'bagging_freq': 2, 'lambda_l1': 0.004275119385589811, 'lambda_l2': 53.925364276717865}. Best is trial 13 with value: 4876.948304683502.\n",
      "[I 2024-10-18 12:23:10,339] Trial 14 finished with value: 4828.848545880136 and parameters: {'learning_rate': 0.3120785906859297, 'num_leaves': 202, 'max_depth': 9, 'min_data_in_leaf': 29, 'feature_fraction': 0.8998137683134678, 'bagging_fraction': 0.8446182897916644, 'bagging_freq': 2, 'lambda_l1': 0.012699841748688923, 'lambda_l2': 0.007033206346912205}. Best is trial 14 with value: 4828.848545880136.\n",
      "[I 2024-10-18 12:23:18,010] Trial 15 finished with value: 4921.47067958425 and parameters: {'learning_rate': 0.417482430104706, 'num_leaves': 189, 'max_depth': 10, 'min_data_in_leaf': 33, 'feature_fraction': 0.5993481757282995, 'bagging_fraction': 0.793078364824428, 'bagging_freq': 3, 'lambda_l1': 0.036552614485243884, 'lambda_l2': 0.0028013823332393687}. Best is trial 14 with value: 4828.848545880136.\n",
      "[I 2024-10-18 12:23:25,438] Trial 16 finished with value: 9400.522469955464 and parameters: {'learning_rate': 0.010706926602287462, 'num_leaves': 202, 'max_depth': -1, 'min_data_in_leaf': 20, 'feature_fraction': 0.8532016165348941, 'bagging_fraction': 0.3384845927166287, 'bagging_freq': 2, 'lambda_l1': 2.00158780154536e-06, 'lambda_l2': 0.014490951521988949}. Best is trial 14 with value: 4828.848545880136.\n",
      "[I 2024-10-18 12:23:30,659] Trial 17 finished with value: 5430.229337453644 and parameters: {'learning_rate': 0.37961012767879176, 'num_leaves': 222, 'max_depth': 6, 'min_data_in_leaf': 33, 'feature_fraction': 0.4324726681639457, 'bagging_fraction': 0.8432965864762071, 'bagging_freq': 2, 'lambda_l1': 0.00030739862943552824, 'lambda_l2': 1.9070433729188912e-05}. Best is trial 14 with value: 4828.848545880136.\n",
      "[I 2024-10-18 12:23:38,124] Trial 18 finished with value: 5156.624227335492 and parameters: {'learning_rate': 0.09260867521594941, 'num_leaves': 186, 'max_depth': 10, 'min_data_in_leaf': 50, 'feature_fraction': 0.9167920960360095, 'bagging_fraction': 0.4388609833624493, 'bagging_freq': 3, 'lambda_l1': 1.7552902158199406, 'lambda_l2': 0.016614443659903673}. Best is trial 14 with value: 4828.848545880136.\n",
      "[I 2024-10-18 12:23:42,197] Trial 19 finished with value: 6057.774240760737 and parameters: {'learning_rate': 0.9117042877372294, 'num_leaves': 172, 'max_depth': 4, 'min_data_in_leaf': 21, 'feature_fraction': 0.6643097786075454, 'bagging_fraction': 0.732211041388808, 'bagging_freq': 4, 'lambda_l1': 0.03476136971053818, 'lambda_l2': 4.015821598771861}. Best is trial 14 with value: 4828.848545880136.\n",
      "[I 2024-10-18 12:23:48,059] Trial 20 finished with value: 11114.2072335845 and parameters: {'learning_rate': 0.013962531066152282, 'num_leaves': 225, 'max_depth': 6, 'min_data_in_leaf': 30, 'feature_fraction': 0.26769714892088686, 'bagging_fraction': 0.8993674274206783, 'bagging_freq': 2, 'lambda_l1': 3.192400820101198e-07, 'lambda_l2': 0.0159498841651363}. Best is trial 14 with value: 4828.848545880136.\n",
      "[I 2024-10-18 12:23:56,479] Trial 21 finished with value: 4860.623351568608 and parameters: {'learning_rate': 0.26365841307295107, 'num_leaves': 233, 'max_depth': 8, 'min_data_in_leaf': 27, 'feature_fraction': 0.9244231022880284, 'bagging_fraction': 0.9343901233067121, 'bagging_freq': 2, 'lambda_l1': 0.0014798108733533643, 'lambda_l2': 9.114088340651053}. Best is trial 14 with value: 4828.848545880136.\n",
      "[I 2024-10-18 12:24:05,342] Trial 22 finished with value: 4802.702065527825 and parameters: {'learning_rate': 0.3123195570870294, 'num_leaves': 231, 'max_depth': 9, 'min_data_in_leaf': 38, 'feature_fraction': 0.890230666265838, 'bagging_fraction': 0.8876879271550924, 'bagging_freq': 3, 'lambda_l1': 0.01631289435992086, 'lambda_l2': 5.726569773898948}. Best is trial 22 with value: 4802.702065527825.\n",
      "[I 2024-10-18 12:24:12,087] Trial 23 finished with value: 5485.488083585972 and parameters: {'learning_rate': 0.09871292134260765, 'num_leaves': 233, 'max_depth': 7, 'min_data_in_leaf': 38, 'feature_fraction': 0.8817511719511031, 'bagging_fraction': 0.7126223973379574, 'bagging_freq': 3, 'lambda_l1': 0.05685533774010902, 'lambda_l2': 5.64800465308224}. Best is trial 22 with value: 4802.702065527825.\n",
      "[I 2024-10-18 12:24:20,936] Trial 24 finished with value: 4810.264985540146 and parameters: {'learning_rate': 0.32411724455555757, 'num_leaves': 236, 'max_depth': 10, 'min_data_in_leaf': 29, 'feature_fraction': 0.802945815021606, 'bagging_fraction': 0.8848071486790514, 'bagging_freq': 3, 'lambda_l1': 0.00041203085327186855, 'lambda_l2': 0.05928031552470847}. Best is trial 22 with value: 4802.702065527825.\n",
      "[I 2024-10-18 12:24:28,116] Trial 25 finished with value: 4945.660790957207 and parameters: {'learning_rate': 0.46286124638833825, 'num_leaves': 189, 'max_depth': 10, 'min_data_in_leaf': 38, 'feature_fraction': 0.7844025482178966, 'bagging_fraction': 0.7947051717413601, 'bagging_freq': 5, 'lambda_l1': 0.00012552006406279384, 'lambda_l2': 0.0472268835329471}. Best is trial 22 with value: 4802.702065527825.\n",
      "[I 2024-10-18 12:24:37,797] Trial 26 finished with value: 4980.195460846806 and parameters: {'learning_rate': 0.11981607027307328, 'num_leaves': 240, 'max_depth': 13, 'min_data_in_leaf': 42, 'feature_fraction': 0.6740485168150858, 'bagging_fraction': 0.8813649980493679, 'bagging_freq': 3, 'lambda_l1': 0.0203959861824457, 'lambda_l2': 0.0014095831384643607}. Best is trial 22 with value: 4802.702065527825.\n",
      "[I 2024-10-18 12:24:46,737] Trial 27 finished with value: 6388.166159652346 and parameters: {'learning_rate': 0.024832837735017696, 'num_leaves': 204, 'max_depth': 10, 'min_data_in_leaf': 32, 'feature_fraction': 0.8012896821016917, 'bagging_fraction': 0.6806424040258228, 'bagging_freq': 5, 'lambda_l1': 3.8648328044619458, 'lambda_l2': 1.1021933776926969}. Best is trial 22 with value: 4802.702065527825.\n",
      "[I 2024-10-18 12:24:54,326] Trial 28 finished with value: 5245.888873314825 and parameters: {'learning_rate': 0.68016149975791, 'num_leaves': 178, 'max_depth': 9, 'min_data_in_leaf': 37, 'feature_fraction': 0.6394883920800756, 'bagging_fraction': 0.7876438018247693, 'bagging_freq': 3, 'lambda_l1': 0.0003621948778304302, 'lambda_l2': 0.0036732005514475098}. Best is trial 22 with value: 4802.702065527825.\n",
      "[I 2024-10-18 12:25:02,012] Trial 29 finished with value: 5513.300038436505 and parameters: {'learning_rate': 0.05516777209963347, 'num_leaves': 199, 'max_depth': 12, 'min_data_in_leaf': 29, 'feature_fraction': 0.4988019598530026, 'bagging_fraction': 0.4862641514245895, 'bagging_freq': 1, 'lambda_l1': 9.653253210325283e-06, 'lambda_l2': 0.05981316743526058}. Best is trial 22 with value: 4802.702065527825.\n",
      "[I 2024-10-18 12:25:07,161] Trial 30 finished with value: 5561.879431558746 and parameters: {'learning_rate': 0.33416360197759315, 'num_leaves': 240, 'max_depth': 5, 'min_data_in_leaf': 22, 'feature_fraction': 0.8937960636289447, 'bagging_fraction': 0.9179963730577789, 'bagging_freq': 4, 'lambda_l1': 15.094104299186519, 'lambda_l2': 0.00019555084170743174}. Best is trial 22 with value: 4802.702065527825.\n",
      "[I 2024-10-18 12:25:15,992] Trial 31 finished with value: 4805.301289729232 and parameters: {'learning_rate': 0.3185752738437587, 'num_leaves': 231, 'max_depth': 9, 'min_data_in_leaf': 16, 'feature_fraction': 0.9144483680244226, 'bagging_fraction': 0.8783148752930388, 'bagging_freq': 2, 'lambda_l1': 0.0010913346759816827, 'lambda_l2': 9.614087104777187}. Best is trial 22 with value: 4802.702065527825.\n",
      "[I 2024-10-18 12:25:22,651] Trial 32 finished with value: 5045.637915251411 and parameters: {'learning_rate': 0.5780269189200388, 'num_leaves': 219, 'max_depth': 9, 'min_data_in_leaf': 16, 'feature_fraction': 0.9417206022336304, 'bagging_fraction': 0.8470012517265314, 'bagging_freq': 1, 'lambda_l1': 0.00070900444864042, 'lambda_l2': 0.8986427531560297}. Best is trial 22 with value: 4802.702065527825.\n",
      "[I 2024-10-18 12:25:28,281] Trial 33 finished with value: 5885.4150396503455 and parameters: {'learning_rate': 0.1407264873728795, 'num_leaves': 31, 'max_depth': 11, 'min_data_in_leaf': 13, 'feature_fraction': 0.7775968056351591, 'bagging_fraction': 0.7554934107583477, 'bagging_freq': 2, 'lambda_l1': 0.1231133610166424, 'lambda_l2': 0.11821411899439743}. Best is trial 22 with value: 4802.702065527825.\n",
      "[I 2024-10-18 12:25:38,336] Trial 34 finished with value: 5274.070263698626 and parameters: {'learning_rate': 0.06549398185156274, 'num_leaves': 219, 'max_depth': 14, 'min_data_in_leaf': 9, 'feature_fraction': 0.8537771617558182, 'bagging_fraction': 0.677821421584115, 'bagging_freq': 3, 'lambda_l1': 7.750324272082886e-05, 'lambda_l2': 11.775802289601753}. Best is trial 22 with value: 4802.702065527825.\n",
      "[I 2024-10-18 12:25:45,162] Trial 35 finished with value: 5118.531082422362 and parameters: {'learning_rate': 0.2820706905516606, 'num_leaves': 244, 'max_depth': 7, 'min_data_in_leaf': 15, 'feature_fraction': 0.7196571573864178, 'bagging_fraction': 0.6356518353843296, 'bagging_freq': 3, 'lambda_l1': 0.011494851830420545, 'lambda_l2': 1.4346565091609962}. Best is trial 22 with value: 4802.702065527825.\n",
      "[I 2024-10-18 12:25:52,203] Trial 36 finished with value: 11844.657665082561 and parameters: {'learning_rate': 0.006557041379428693, 'num_leaves': 210, 'max_depth': 9, 'min_data_in_leaf': 23, 'feature_fraction': 0.8166037145003961, 'bagging_fraction': 0.3018831809080657, 'bagging_freq': 2, 'lambda_l1': 0.0011863891443681166, 'lambda_l2': 4.686491649114616e-05}. Best is trial 22 with value: 4802.702065527825.\n",
      "[I 2024-10-18 12:25:58,743] Trial 37 finished with value: 7917.610926927101 and parameters: {'learning_rate': 0.026807337029659418, 'num_leaves': 96, 'max_depth': 11, 'min_data_in_leaf': 29, 'feature_fraction': 0.24869680780135178, 'bagging_fraction': 0.9360524679080275, 'bagging_freq': 4, 'lambda_l1': 0.41138526681610155, 'lambda_l2': 5.0686351333291686e-08}. Best is trial 22 with value: 4802.702065527825.\n",
      "[I 2024-10-18 12:26:01,533] Trial 38 finished with value: 7190.115985337384 and parameters: {'learning_rate': 0.6587397636370014, 'num_leaves': 236, 'max_depth': 2, 'min_data_in_leaf': 7, 'feature_fraction': 0.7265557114532093, 'bagging_fraction': 0.8434102669650657, 'bagging_freq': 1, 'lambda_l1': 3.778435447286072e-05, 'lambda_l2': 0.22445424709861928}. Best is trial 22 with value: 4802.702065527825.\n",
      "[I 2024-10-18 12:26:08,343] Trial 39 finished with value: 4972.03949170309 and parameters: {'learning_rate': 0.4419526017946451, 'num_leaves': 167, 'max_depth': 13, 'min_data_in_leaf': 19, 'feature_fraction': 0.9528173021066708, 'bagging_fraction': 0.8814880838018109, 'bagging_freq': 4, 'lambda_l1': 0.1168989365980667, 'lambda_l2': 0.006330559138010001}. Best is trial 22 with value: 4802.702065527825.\n",
      "[I 2024-10-18 12:26:17,250] Trial 40 finished with value: 5362.6605006883865 and parameters: {'learning_rate': 0.06926473859613415, 'num_leaves': 155, 'max_depth': 11, 'min_data_in_leaf': 45, 'feature_fraction': 0.8792967608788137, 'bagging_fraction': 0.7704328186590482, 'bagging_freq': 2, 'lambda_l1': 5.3894599487946785e-06, 'lambda_l2': 0.0007107868611185499}. Best is trial 22 with value: 4802.702065527825.\n",
      "[I 2024-10-18 12:26:26,748] Trial 41 finished with value: 4798.687664546621 and parameters: {'learning_rate': 0.2723494668638814, 'num_leaves': 231, 'max_depth': 9, 'min_data_in_leaf': 29, 'feature_fraction': 0.9079755050039745, 'bagging_fraction': 0.9357751970250049, 'bagging_freq': 2, 'lambda_l1': 0.0011705969585855099, 'lambda_l2': 10.854795619120951}. Best is trial 41 with value: 4798.687664546621.\n",
      "[I 2024-10-18 12:26:35,564] Trial 42 finished with value: 4942.651558276554 and parameters: {'learning_rate': 0.137808557710117, 'num_leaves': 227, 'max_depth': 9, 'min_data_in_leaf': 31, 'feature_fraction': 0.8500235477972377, 'bagging_fraction': 0.8268466407592875, 'bagging_freq': 3, 'lambda_l1': 0.0006272019791506564, 'lambda_l2': 2.186677301852328}. Best is trial 41 with value: 4798.687664546621.\n",
      "[I 2024-10-18 12:26:42,659] Trial 43 finished with value: 5020.360049453137 and parameters: {'learning_rate': 0.2914213193103127, 'num_leaves': 246, 'max_depth': 7, 'min_data_in_leaf': 35, 'feature_fraction': 0.9555153028436041, 'bagging_fraction': 0.9448767647275562, 'bagging_freq': 2, 'lambda_l1': 0.010799691002313346, 'lambda_l2': 94.66521668484361}. Best is trial 41 with value: 4798.687664546621.\n",
      "[I 2024-10-18 12:26:51,706] Trial 44 finished with value: 4839.903066658073 and parameters: {'learning_rate': 0.2012216869557969, 'num_leaves': 216, 'max_depth': 10, 'min_data_in_leaf': 23, 'feature_fraction': 0.746743509668429, 'bagging_fraction': 0.8870109539804221, 'bagging_freq': 3, 'lambda_l1': 0.0054028568105865165, 'lambda_l2': 9.329366246499532}. Best is trial 41 with value: 4798.687664546621.\n",
      "[I 2024-10-18 12:26:58,342] Trial 45 finished with value: 4956.528270905812 and parameters: {'learning_rate': 0.5243367598304995, 'num_leaves': 197, 'max_depth': 12, 'min_data_in_leaf': 35, 'feature_fraction': 0.888668242873919, 'bagging_fraction': 0.9526727258857194, 'bagging_freq': 1, 'lambda_l1': 0.0001462915768574199, 'lambda_l2': 0.5120643529708682}. Best is trial 41 with value: 4798.687664546621.\n",
      "[I 2024-10-18 12:27:08,018] Trial 46 finished with value: 16866.63593091115 and parameters: {'learning_rate': 0.0013563773148023775, 'num_leaves': 229, 'max_depth': 9, 'min_data_in_leaf': 28, 'feature_fraction': 0.8168725580183959, 'bagging_fraction': 0.8239779175128884, 'bagging_freq': 2, 'lambda_l1': 0.002082182625934258, 'lambda_l2': 0.13403611897334816}. Best is trial 41 with value: 4798.687664546621.\n",
      "[I 2024-10-18 12:27:13,473] Trial 47 finished with value: 5951.6656218022845 and parameters: {'learning_rate': 0.8639359886408321, 'num_leaves': 248, 'max_depth': 5, 'min_data_in_leaf': 41, 'feature_fraction': 0.9690473203292924, 'bagging_fraction': 0.8783872974612834, 'bagging_freq': 3, 'lambda_l1': 7.109067741365258e-05, 'lambda_l2': 2.512396491987711}. Best is trial 41 with value: 4798.687664546621.\n",
      "[I 2024-10-18 12:27:20,777] Trial 48 finished with value: 5195.578931313425 and parameters: {'learning_rate': 0.17280170969563996, 'num_leaves': 213, 'max_depth': 7, 'min_data_in_leaf': 1, 'feature_fraction': 0.915764899803168, 'bagging_fraction': 0.9673705509986501, 'bagging_freq': 2, 'lambda_l1': 0.004051456458692796, 'lambda_l2': 21.19637616340498}. Best is trial 41 with value: 4798.687664546621.\n",
      "[I 2024-10-18 12:27:26,760] Trial 49 finished with value: 5042.564433339613 and parameters: {'learning_rate': 0.35231459743901594, 'num_leaves': 132, 'max_depth': 11, 'min_data_in_leaf': 25, 'feature_fraction': 0.7699425283557324, 'bagging_fraction': 0.6230138269217792, 'bagging_freq': 1, 'lambda_l1': 0.00025747144051075033, 'lambda_l2': 0.049067653319343166}. Best is trial 41 with value: 4798.687664546621.\n"
     ]
    },
    {
     "name": "stdout",
     "output_type": "stream",
     "text": [
      "Best hyperparameters: {'learning_rate': 0.2723494668638814, 'num_leaves': 231, 'max_depth': 9, 'min_data_in_leaf': 29, 'feature_fraction': 0.9079755050039745, 'bagging_fraction': 0.9357751970250049, 'bagging_freq': 2, 'lambda_l1': 0.0011705969585855099, 'lambda_l2': 10.854795619120951}\n"
     ]
    }
   ],
   "source": [
    "def objective(trial):\n",
    "    # Define hyperparameters to tune\n",
    "    params = {\n",
    "        'objective': 'regression',  # 회귀 문제\n",
    "        'metric': 'mae',            # 평가지표 설정\n",
    "        'verbosity': -1,\n",
    "        'boosting_type': 'gbdt',    # Gradient Boosting Decision Tree\n",
    "        'learning_rate': trial.suggest_loguniform('learning_rate', 1e-3, 1),\n",
    "        'num_leaves': trial.suggest_int('num_leaves', 31, 255),\n",
    "        'max_depth': trial.suggest_int('max_depth', -1, 15),  # -1 means no limit\n",
    "        'min_data_in_leaf': trial.suggest_int('min_data_in_leaf', 1, 50),\n",
    "        'feature_fraction': trial.suggest_uniform('feature_fraction', 0.1, 1.0),\n",
    "        'bagging_fraction': trial.suggest_uniform('bagging_fraction', 0.1, 1.0),\n",
    "        'bagging_freq': trial.suggest_int('bagging_freq', 1, 7),\n",
    "        'lambda_l1': trial.suggest_loguniform('lambda_l1', 1e-8, 100.0),\n",
    "        'lambda_l2': trial.suggest_loguniform('lambda_l2', 1e-8, 100.0),\n",
    "    }\n",
    "\n",
    "    # Create dataset for LightGBM\n",
    "    d_train = lgb.Dataset(X_train, label=y_train)\n",
    "    d_valid = lgb.Dataset(X_valid, label=y_valid)\n",
    "\n",
    "    # Train the model\n",
    "    model = lgb.train(params, d_train, valid_sets=[d_valid])\n",
    "\n",
    "    # Make predictions on validation set\n",
    "    y_pred = model.predict(X_valid)\n",
    "\n",
    "    # Calculate MAE\n",
    "    mae = mean_absolute_error(y_valid, y_pred)\n",
    "    return mae  # MAE가 최소가 되도록 최적화\n",
    "\n",
    "# 2. Optimize hyperparameters with Optuna\n",
    "study = optuna.create_study(direction='minimize')  # MAE를 최소화\n",
    "study.optimize(objective, n_trials=50)  # 50 trials로 최적화\n",
    "\n",
    "# 3. Get best parameters\n",
    "best_params = study.best_params\n",
    "print(\"Best hyperparameters:\", best_params)\n"
   ]
  },
  {
   "cell_type": "code",
   "execution_count": 56,
   "metadata": {},
   "outputs": [
    {
     "name": "stdout",
     "output_type": "stream",
     "text": [
      "[LightGBM] [Warning] min_data_in_leaf is set=29, min_child_samples=20 will be ignored. Current value: min_data_in_leaf=29\n",
      "[LightGBM] [Warning] feature_fraction is set=0.9079755050039745, colsample_bytree=1.0 will be ignored. Current value: feature_fraction=0.9079755050039745\n",
      "[LightGBM] [Warning] lambda_l2 is set=10.854795619120951, reg_lambda=0.0 will be ignored. Current value: lambda_l2=10.854795619120951\n",
      "[LightGBM] [Warning] lambda_l1 is set=0.0011705969585855099, reg_alpha=0.0 will be ignored. Current value: lambda_l1=0.0011705969585855099\n",
      "[LightGBM] [Warning] bagging_fraction is set=0.9357751970250049, subsample=1.0 will be ignored. Current value: bagging_fraction=0.9357751970250049\n",
      "[LightGBM] [Warning] bagging_freq is set=2, subsample_freq=0 will be ignored. Current value: bagging_freq=2\n",
      "[LightGBM] [Warning] min_data_in_leaf is set=29, min_child_samples=20 will be ignored. Current value: min_data_in_leaf=29\n",
      "[LightGBM] [Warning] feature_fraction is set=0.9079755050039745, colsample_bytree=1.0 will be ignored. Current value: feature_fraction=0.9079755050039745\n",
      "[LightGBM] [Warning] lambda_l2 is set=10.854795619120951, reg_lambda=0.0 will be ignored. Current value: lambda_l2=10.854795619120951\n",
      "[LightGBM] [Warning] lambda_l1 is set=0.0011705969585855099, reg_alpha=0.0 will be ignored. Current value: lambda_l1=0.0011705969585855099\n",
      "[LightGBM] [Warning] bagging_fraction is set=0.9357751970250049, subsample=1.0 will be ignored. Current value: bagging_fraction=0.9357751970250049\n",
      "[LightGBM] [Warning] bagging_freq is set=2, subsample_freq=0 will be ignored. Current value: bagging_freq=2\n",
      "[LightGBM] [Info] Auto-choosing row-wise multi-threading, the overhead of testing was 0.021484 seconds.\n",
      "You can set `force_row_wise=true` to remove the overhead.\n",
      "And if memory is not enough, you can set `force_col_wise=true`.\n",
      "[LightGBM] [Info] Total Bins 3549\n",
      "[LightGBM] [Info] Number of data points in the train set: 1714416, number of used features: 20\n",
      "[LightGBM] [Info] Start training from score 38207.326595\n",
      "[LightGBM] [Warning] No further splits with positive gain, best gain: -inf\n",
      "[LightGBM] [Warning] No further splits with positive gain, best gain: -inf\n",
      "[LightGBM] [Warning] No further splits with positive gain, best gain: -inf\n",
      "[LightGBM] [Warning] No further splits with positive gain, best gain: -inf\n",
      "[LightGBM] [Warning] No further splits with positive gain, best gain: -inf\n",
      "[LightGBM] [Warning] min_data_in_leaf is set=29, min_child_samples=20 will be ignored. Current value: min_data_in_leaf=29\n",
      "[LightGBM] [Warning] feature_fraction is set=0.9079755050039745, colsample_bytree=1.0 will be ignored. Current value: feature_fraction=0.9079755050039745\n",
      "[LightGBM] [Warning] lambda_l2 is set=10.854795619120951, reg_lambda=0.0 will be ignored. Current value: lambda_l2=10.854795619120951\n",
      "[LightGBM] [Warning] lambda_l1 is set=0.0011705969585855099, reg_alpha=0.0 will be ignored. Current value: lambda_l1=0.0011705969585855099\n",
      "[LightGBM] [Warning] bagging_fraction is set=0.9357751970250049, subsample=1.0 will be ignored. Current value: bagging_fraction=0.9357751970250049\n",
      "[LightGBM] [Warning] bagging_freq is set=2, subsample_freq=0 will be ignored. Current value: bagging_freq=2\n"
     ]
    }
   ],
   "source": [
    "X_total, y_total = common_utils.train_valid_concat(X_train, X_valid, y_train, y_valid)\n",
    "# 4. Train the final model with the best parameters on the full training set\n",
    "final_model = lgb.LGBMRegressor(**best_params)  # 회귀 모델로 생성\n",
    "final_model.fit(X_total, y_total)\n",
    "\n",
    "# 5. Predict on the test set\n",
    "y_test_pred = final_model.predict(X_test)\n",
    "sample_submission = Directory.sample_submission\n",
    "sample_submission['deposit'] = y_test_pred\n",
    "\n",
    "# 결과 확인\n",
    "submission_path = os.path.join(\"/data/ephemeral/home/level2-competitiveds-recsys-01/result/\", \"submission\")\n",
    "os.makedirs(submission_path, exist_ok=True)\n",
    "\n",
    "file_name = 'lightgbm+optuna'\n",
    "file_name += '_' + time.strftime('%x', time.localtime())[:5].replace('/','') + '.csv'\n",
    "\n",
    "submission_file_path = os.path.join(submission_path, file_name)\n",
    "sample_submission.to_csv(submission_file_path, index=False, encoding='utf-8-sig')"
   ]
  },
  {
   "cell_type": "markdown",
   "metadata": {},
   "source": [
    "#### ensemble"
   ]
  },
  {
   "cell_type": "markdown",
   "metadata": {},
   "source": [
    "##### baseline model(lightGBM, xgboost, randomforest)\n",
    "각각 3 모델에 대해 default parameter로 돌려본 뒤 각각의 feature importance를 찍어보고 좋은 feature를 탐색해보자"
   ]
  },
  {
   "cell_type": "code",
   "execution_count": 4,
   "metadata": {},
   "outputs": [],
   "source": [
    "cate = ['contract_type','cluster','subway_info','park_info', 'school_info', 'distance_category','age_category', 'floor_category', 'area_category']\n",
    "for column in cate:\n",
    "    train_data[column] = train_data[column].astype('category')\n",
    "    valid_data[column] = valid_data[column].astype('category')\n",
    "    test_data[column] = test_data[column].astype('category')"
   ]
  },
  {
   "cell_type": "code",
   "execution_count": 5,
   "metadata": {},
   "outputs": [
    {
     "name": "stdout",
     "output_type": "stream",
     "text": [
      "standardization...\n"
     ]
    }
   ],
   "source": [
    "print(\"standardization...\")\n",
    "train_data_, valid_data_, test_data_ = preprocessing.standardization(train_data, valid_data, test_data, scaling_type = 'standard')\n",
    "train_data_scaled, valid_data_scaled, test_data_scaled = preprocessing.feature_selection(train_data_, valid_data_, test_data_)\n",
    "# feature split\n",
    "X_train, y_train, X_valid, y_valid, X_test = common_utils.split_feature_target(train_data_scaled, valid_data_scaled, test_data_scaled)"
   ]
  },
  {
   "cell_type": "code",
   "execution_count": 6,
   "metadata": {},
   "outputs": [
    {
     "name": "stdout",
     "output_type": "stream",
     "text": [
      "Training with xgboost...\n",
      "validation Mae score\n",
      "4701.579579631838\n"
     ]
    }
   ],
   "source": [
    "## xgboost\n",
    "print(\"Training with xgboost...\")\n",
    "xgb_model_ = model.xgboost(X_train, y_train)\n",
    "xgb_prediction, xgb_mae = inference(xgb_model_, 'validation', X_valid, y_valid)\n"
   ]
  },
  {
   "cell_type": "code",
   "execution_count": 7,
   "metadata": {},
   "outputs": [
    {
     "data": {
      "text/plain": [
       "['distance_km',\n",
       " 'built_year',\n",
       " 'area_m2',\n",
       " 'cluster',\n",
       " 'contract_year_month',\n",
       " 'floor_area_interaction',\n",
       " 'subway_info',\n",
       " 'middle_schools_within_radius',\n",
       " 'contract_type',\n",
       " 'latitude',\n",
       " 'high_schools_within_radius',\n",
       " 'longitude',\n",
       " 'schools_within_radius',\n",
       " 'distance_to_centroid',\n",
       " 'nearest_park_area_sum',\n",
       " 'subways_within_radius',\n",
       " 'nearest_subway_distance_x',\n",
       " 'nearest_subway_distance_y',\n",
       " 'distance_category',\n",
       " 'elementary_schools_within_radius']"
      ]
     },
     "execution_count": 7,
     "metadata": {},
     "output_type": "execute_result"
    }
   ],
   "source": [
    "xgb_importance = xgb_model_.feature_importances_\n",
    "        \n",
    "train_df = train_data_.copy()\n",
    "train_df = train_df.drop(columns = ['deposit'], axis=1)\n",
    "\n",
    "importance_df = pd.DataFrame({\n",
    "    'features': train_df.columns,\n",
    "    'importance': xgb_importance\n",
    "}).sort_values(by='importance', ascending=False)\n",
    "xgb_top_n_features = list(importance_df.head(20)['features'].values)\n",
    "xgb_top_n_features"
   ]
  },
  {
   "cell_type": "code",
   "execution_count": 8,
   "metadata": {},
   "outputs": [
    {
     "name": "stdout",
     "output_type": "stream",
     "text": [
      "Training with lightgbm...\n",
      "[LightGBM] [Info] Auto-choosing row-wise multi-threading, the overhead of testing was 0.060480 seconds.\n",
      "You can set `force_row_wise=true` to remove the overhead.\n",
      "And if memory is not enough, you can set `force_col_wise=true`.\n",
      "[LightGBM] [Info] Total Bins 4650\n",
      "[LightGBM] [Info] Number of data points in the train set: 1515867, number of used features: 47\n",
      "[LightGBM] [Info] Start training from score 37853.227009\n",
      "validation Mae score\n",
      "5965.382795299795\n"
     ]
    }
   ],
   "source": [
    "print(\"Training with lightgbm...\")\n",
    "lgb_model_ = model.lightgbm(X_train, y_train)\n",
    "lgb_prediction, lgb_mae = inference(lgb_model_, 'validation', X_valid, y_valid)"
   ]
  },
  {
   "cell_type": "code",
   "execution_count": 9,
   "metadata": {},
   "outputs": [
    {
     "data": {
      "text/plain": [
       "['area_m2',\n",
       " 'distance_km',\n",
       " 'age_category',\n",
       " 'cluster',\n",
       " 'built_year',\n",
       " 'contract_year_month',\n",
       " 'latitude',\n",
       " 'nearest_park_area_sum',\n",
       " 'longitude',\n",
       " 'distance_to_centroid',\n",
       " 'contract_type',\n",
       " 'transaction_count_last_3_months',\n",
       " 'nearest_park_area',\n",
       " 'floor_area_interaction',\n",
       " 'nearest_subway_distance_x',\n",
       " 'nearest_subway_distance_y',\n",
       " 'nearest_park_distance',\n",
       " 'subway_info',\n",
       " 'elementary_schools_within_radius',\n",
       " 'nearest_high_distance']"
      ]
     },
     "execution_count": 9,
     "metadata": {},
     "output_type": "execute_result"
    }
   ],
   "source": [
    "lgb_importance = lgb_model_.feature_importances_\n",
    "        \n",
    "train_df = train_data_.copy()\n",
    "train_df = train_df.drop(columns = ['deposit'], axis=1)\n",
    "\n",
    "importance_df = pd.DataFrame({\n",
    "    'features': train_df.columns,\n",
    "    'importance': lgb_importance\n",
    "}).sort_values(by='importance', ascending=False)\n",
    "lgb_top_n_features = list(importance_df.head(20)['features'].values)\n",
    "lgb_top_n_features"
   ]
  },
  {
   "cell_type": "code",
   "execution_count": 10,
   "metadata": {},
   "outputs": [
    {
     "name": "stdout",
     "output_type": "stream",
     "text": [
      "Training with catboost...\n",
      "0:\tlearn: 16096.4659067\ttotal: 915ms\tremaining: 15m 13s\n",
      "100:\tlearn: 6632.4534470\ttotal: 1m 8s\tremaining: 10m 6s\n",
      "200:\tlearn: 5971.4520819\ttotal: 2m 15s\tremaining: 8m 56s\n",
      "300:\tlearn: 5677.0274217\ttotal: 3m 22s\tremaining: 7m 50s\n",
      "400:\tlearn: 5486.1226262\ttotal: 4m 30s\tremaining: 6m 44s\n",
      "500:\tlearn: 5325.3304215\ttotal: 5m 38s\tremaining: 5m 37s\n",
      "600:\tlearn: 5197.0774793\ttotal: 6m 45s\tremaining: 4m 29s\n",
      "700:\tlearn: 5107.6023736\ttotal: 7m 52s\tremaining: 3m 21s\n",
      "800:\tlearn: 5030.7075567\ttotal: 8m 59s\tremaining: 2m 14s\n",
      "900:\tlearn: 4966.2277743\ttotal: 10m 7s\tremaining: 1m 6s\n",
      "999:\tlearn: 4906.7199576\ttotal: 11m 15s\tremaining: 0us\n",
      "validation Mae score\n",
      "4701.579579631838\n"
     ]
    }
   ],
   "source": [
    "print(\"Training with catboost...\")\n",
    "cb_model_ = model.catboost(X_train, y_train)\n",
    "cb_prediction, cb_mae = inference(xgb_model_, 'validation', X_valid, y_valid)"
   ]
  },
  {
   "cell_type": "code",
   "execution_count": 11,
   "metadata": {},
   "outputs": [
    {
     "data": {
      "text/plain": [
       "['distance_km',\n",
       " 'area_m2',\n",
       " 'built_year',\n",
       " 'contract_year_month',\n",
       " 'cluster',\n",
       " 'latitude',\n",
       " 'contract_type',\n",
       " 'longitude',\n",
       " 'nearest_subway_distance_y',\n",
       " 'distance_to_centroid',\n",
       " 'transaction_count_last_3_months',\n",
       " 'floor_area_interaction',\n",
       " 'density',\n",
       " 'nearest_park_area_sum',\n",
       " 'nearest_subway_distance_x',\n",
       " 'subway_info',\n",
       " 'nearest_park_area',\n",
       " 'high_schools_within_radius',\n",
       " 'area_category',\n",
       " 'age']"
      ]
     },
     "execution_count": 11,
     "metadata": {},
     "output_type": "execute_result"
    }
   ],
   "source": [
    "cb_importance = cb_model_.feature_importances_\n",
    "        \n",
    "train_df = train_data_.copy()\n",
    "train_df = train_df.drop(columns = ['deposit'], axis=1)\n",
    "\n",
    "importance_df = pd.DataFrame({\n",
    "    'features': train_df.columns,\n",
    "    'importance': cb_importance\n",
    "}).sort_values(by='importance', ascending=False)\n",
    "cb_top_n_features = list(importance_df.head(20)['features'].values)\n",
    "cb_top_n_features"
   ]
  },
  {
   "cell_type": "code",
   "execution_count": 12,
   "metadata": {},
   "outputs": [],
   "source": [
    "# Feature importance를 데이터프레임으로 변환\n",
    "importance_df = pd.DataFrame({\n",
    "    'features': train_df.columns,\n",
    "    'lgb_importance': lgb_importance,\n",
    "    'cb_importance': cb_importance,\n",
    "    'xgb_importance': xgb_importance\n",
    "})\n",
    "importance_df[['lgb_importance','cb_importance','xgb_importance']] = importance_df[['lgb_importance','cb_importance','xgb_importance']].apply(lambda x: x / x.sum(), axis=0)"
   ]
  },
  {
   "cell_type": "code",
   "execution_count": 13,
   "metadata": {},
   "outputs": [
    {
     "data": {
      "text/html": [
       "<div>\n",
       "<style scoped>\n",
       "    .dataframe tbody tr th:only-of-type {\n",
       "        vertical-align: middle;\n",
       "    }\n",
       "\n",
       "    .dataframe tbody tr th {\n",
       "        vertical-align: top;\n",
       "    }\n",
       "\n",
       "    .dataframe thead th {\n",
       "        text-align: right;\n",
       "    }\n",
       "</style>\n",
       "<table border=\"1\" class=\"dataframe\">\n",
       "  <thead>\n",
       "    <tr style=\"text-align: right;\">\n",
       "      <th></th>\n",
       "      <th>features</th>\n",
       "      <th>lgb_importance</th>\n",
       "      <th>cb_importance</th>\n",
       "      <th>xgb_importance</th>\n",
       "      <th>weighted_importance</th>\n",
       "    </tr>\n",
       "  </thead>\n",
       "  <tbody>\n",
       "    <tr>\n",
       "      <th>16</th>\n",
       "      <td>distance_km</td>\n",
       "      <td>0.101333</td>\n",
       "      <td>0.287911</td>\n",
       "      <td>0.247766</td>\n",
       "      <td>0.000131</td>\n",
       "    </tr>\n",
       "    <tr>\n",
       "      <th>0</th>\n",
       "      <td>area_m2</td>\n",
       "      <td>0.138000</td>\n",
       "      <td>0.248966</td>\n",
       "      <td>0.101441</td>\n",
       "      <td>0.000098</td>\n",
       "    </tr>\n",
       "    <tr>\n",
       "      <th>5</th>\n",
       "      <td>built_year</td>\n",
       "      <td>0.082333</td>\n",
       "      <td>0.119883</td>\n",
       "      <td>0.201569</td>\n",
       "      <td>0.000082</td>\n",
       "    </tr>\n",
       "    <tr>\n",
       "      <th>13</th>\n",
       "      <td>cluster</td>\n",
       "      <td>0.083000</td>\n",
       "      <td>0.031618</td>\n",
       "      <td>0.043184</td>\n",
       "      <td>0.000030</td>\n",
       "    </tr>\n",
       "    <tr>\n",
       "      <th>1</th>\n",
       "      <td>contract_year_month</td>\n",
       "      <td>0.056667</td>\n",
       "      <td>0.032407</td>\n",
       "      <td>0.038320</td>\n",
       "      <td>0.000025</td>\n",
       "    </tr>\n",
       "    <tr>\n",
       "      <th>37</th>\n",
       "      <td>age_category</td>\n",
       "      <td>0.100333</td>\n",
       "      <td>0.000474</td>\n",
       "      <td>0.008042</td>\n",
       "      <td>0.000019</td>\n",
       "    </tr>\n",
       "    <tr>\n",
       "      <th>6</th>\n",
       "      <td>latitude</td>\n",
       "      <td>0.043667</td>\n",
       "      <td>0.027406</td>\n",
       "      <td>0.023683</td>\n",
       "      <td>0.000018</td>\n",
       "    </tr>\n",
       "    <tr>\n",
       "      <th>7</th>\n",
       "      <td>longitude</td>\n",
       "      <td>0.039000</td>\n",
       "      <td>0.020189</td>\n",
       "      <td>0.019435</td>\n",
       "      <td>0.000015</td>\n",
       "    </tr>\n",
       "    <tr>\n",
       "      <th>3</th>\n",
       "      <td>contract_type</td>\n",
       "      <td>0.026667</td>\n",
       "      <td>0.020484</td>\n",
       "      <td>0.024164</td>\n",
       "      <td>0.000014</td>\n",
       "    </tr>\n",
       "    <tr>\n",
       "      <th>32</th>\n",
       "      <td>floor_area_interaction</td>\n",
       "      <td>0.020000</td>\n",
       "      <td>0.015536</td>\n",
       "      <td>0.032123</td>\n",
       "      <td>0.000013</td>\n",
       "    </tr>\n",
       "    <tr>\n",
       "      <th>33</th>\n",
       "      <td>nearest_park_area_sum</td>\n",
       "      <td>0.042333</td>\n",
       "      <td>0.015051</td>\n",
       "      <td>0.014810</td>\n",
       "      <td>0.000013</td>\n",
       "    </tr>\n",
       "    <tr>\n",
       "      <th>15</th>\n",
       "      <td>distance_to_centroid</td>\n",
       "      <td>0.033333</td>\n",
       "      <td>0.017066</td>\n",
       "      <td>0.016758</td>\n",
       "      <td>0.000013</td>\n",
       "    </tr>\n",
       "    <tr>\n",
       "      <th>10</th>\n",
       "      <td>subway_info</td>\n",
       "      <td>0.014000</td>\n",
       "      <td>0.011449</td>\n",
       "      <td>0.028639</td>\n",
       "      <td>0.000011</td>\n",
       "    </tr>\n",
       "    <tr>\n",
       "      <th>40</th>\n",
       "      <td>transaction_count_last_3_months</td>\n",
       "      <td>0.025667</td>\n",
       "      <td>0.016437</td>\n",
       "      <td>0.009949</td>\n",
       "      <td>0.000010</td>\n",
       "    </tr>\n",
       "    <tr>\n",
       "      <th>24</th>\n",
       "      <td>nearest_subway_distance_y</td>\n",
       "      <td>0.017333</td>\n",
       "      <td>0.018264</td>\n",
       "      <td>0.013059</td>\n",
       "      <td>0.000010</td>\n",
       "    </tr>\n",
       "    <tr>\n",
       "      <th>18</th>\n",
       "      <td>nearest_subway_distance_x</td>\n",
       "      <td>0.017667</td>\n",
       "      <td>0.012774</td>\n",
       "      <td>0.013364</td>\n",
       "      <td>0.000009</td>\n",
       "    </tr>\n",
       "    <tr>\n",
       "      <th>44</th>\n",
       "      <td>middle_schools_within_radius</td>\n",
       "      <td>0.009000</td>\n",
       "      <td>0.006017</td>\n",
       "      <td>0.024764</td>\n",
       "      <td>0.000008</td>\n",
       "    </tr>\n",
       "    <tr>\n",
       "      <th>45</th>\n",
       "      <td>high_schools_within_radius</td>\n",
       "      <td>0.010667</td>\n",
       "      <td>0.008394</td>\n",
       "      <td>0.019828</td>\n",
       "      <td>0.000008</td>\n",
       "    </tr>\n",
       "    <tr>\n",
       "      <th>42</th>\n",
       "      <td>schools_within_radius</td>\n",
       "      <td>0.012333</td>\n",
       "      <td>0.006168</td>\n",
       "      <td>0.019347</td>\n",
       "      <td>0.000007</td>\n",
       "    </tr>\n",
       "    <tr>\n",
       "      <th>20</th>\n",
       "      <td>nearest_park_area</td>\n",
       "      <td>0.021333</td>\n",
       "      <td>0.008502</td>\n",
       "      <td>0.009342</td>\n",
       "      <td>0.000007</td>\n",
       "    </tr>\n",
       "  </tbody>\n",
       "</table>\n",
       "</div>"
      ],
      "text/plain": [
       "                           features  lgb_importance  cb_importance  \\\n",
       "16                      distance_km        0.101333       0.287911   \n",
       "0                           area_m2        0.138000       0.248966   \n",
       "5                        built_year        0.082333       0.119883   \n",
       "13                          cluster        0.083000       0.031618   \n",
       "1               contract_year_month        0.056667       0.032407   \n",
       "37                     age_category        0.100333       0.000474   \n",
       "6                          latitude        0.043667       0.027406   \n",
       "7                         longitude        0.039000       0.020189   \n",
       "3                     contract_type        0.026667       0.020484   \n",
       "32           floor_area_interaction        0.020000       0.015536   \n",
       "33            nearest_park_area_sum        0.042333       0.015051   \n",
       "15             distance_to_centroid        0.033333       0.017066   \n",
       "10                      subway_info        0.014000       0.011449   \n",
       "40  transaction_count_last_3_months        0.025667       0.016437   \n",
       "24        nearest_subway_distance_y        0.017333       0.018264   \n",
       "18        nearest_subway_distance_x        0.017667       0.012774   \n",
       "44     middle_schools_within_radius        0.009000       0.006017   \n",
       "45       high_schools_within_radius        0.010667       0.008394   \n",
       "42            schools_within_radius        0.012333       0.006168   \n",
       "20                nearest_park_area        0.021333       0.008502   \n",
       "\n",
       "    xgb_importance  weighted_importance  \n",
       "16        0.247766             0.000131  \n",
       "0         0.101441             0.000098  \n",
       "5         0.201569             0.000082  \n",
       "13        0.043184             0.000030  \n",
       "1         0.038320             0.000025  \n",
       "37        0.008042             0.000019  \n",
       "6         0.023683             0.000018  \n",
       "7         0.019435             0.000015  \n",
       "3         0.024164             0.000014  \n",
       "32        0.032123             0.000013  \n",
       "33        0.014810             0.000013  \n",
       "15        0.016758             0.000013  \n",
       "10        0.028639             0.000011  \n",
       "40        0.009949             0.000010  \n",
       "24        0.013059             0.000010  \n",
       "18        0.013364             0.000009  \n",
       "44        0.024764             0.000008  \n",
       "45        0.019828             0.000008  \n",
       "42        0.019347             0.000007  \n",
       "20        0.009342             0.000007  "
      ]
     },
     "execution_count": 13,
     "metadata": {},
     "output_type": "execute_result"
    }
   ],
   "source": [
    "# MAE 기반 가중치 계산\n",
    "weights = np.array([1 / lgb_mae, 1 / cb_mae, 1 / xgb_mae])\n",
    "importance_df['weighted_importance'] = (\n",
    "    importance_df['lgb_importance'] * weights[0] +\n",
    "    importance_df['cb_importance'] * weights[1] +\n",
    "    importance_df['xgb_importance'] * weights[2]\n",
    ")\n",
    "\n",
    "# 최종 feature importance 정렬 및 상위 20개 feature 선택\n",
    "final_importance = importance_df.sort_values(by='weighted_importance', ascending=False).head(20)\n",
    "final_importance"
   ]
  },
  {
   "cell_type": "markdown",
   "metadata": {},
   "source": [
    "##### baseline model + feature top20 + ensemble"
   ]
  },
  {
   "cell_type": "markdown",
   "metadata": {},
   "source": [
    "###### voting ensemble"
   ]
  },
  {
   "cell_type": "code",
   "execution_count": 17,
   "metadata": {},
   "outputs": [
    {
     "name": "stdout",
     "output_type": "stream",
     "text": [
      "standardization...\n"
     ]
    }
   ],
   "source": [
    "features = list(final_importance['features'].values)\n",
    "\n",
    "print(\"standardization...\")\n",
    "train_data_, valid_data_, test_data_ = preprocessing.standardization(train_data, valid_data, test_data, scaling_type = 'standard')\n",
    "train_data_scaled, valid_data_scaled, test_data_scaled = preprocessing.feature_selection(train_data_, valid_data_, test_data_)\n",
    "\n",
    "train_data_scaled_f = train_data_scaled[features + ['deposit']]\n",
    "valid_data_scaled_f = valid_data_scaled[features + ['deposit']]\n",
    "test_data_scaled_f = test_data_scaled[features]\n",
    "\n",
    "# feature split\n",
    "X_train, y_train, X_valid, y_valid, X_test = common_utils.split_feature_target(train_data_scaled_f, valid_data_scaled_f, test_data_scaled_f)"
   ]
  },
  {
   "cell_type": "code",
   "execution_count": 15,
   "metadata": {},
   "outputs": [
    {
     "name": "stdout",
     "output_type": "stream",
     "text": [
      "[LightGBM] [Info] Auto-choosing row-wise multi-threading, the overhead of testing was 0.017294 seconds.\n",
      "You can set `force_row_wise=true` to remove the overhead.\n",
      "And if memory is not enough, you can set `force_col_wise=true`.\n",
      "[LightGBM] [Info] Total Bins 3112\n",
      "[LightGBM] [Info] Number of data points in the train set: 1515867, number of used features: 20\n",
      "[LightGBM] [Info] Start training from score 37853.227009\n"
     ]
    }
   ],
   "source": [
    "xgb_model_ = model.xgboost(X_train, y_train)\n",
    "lgb_model_ = model.lightgbm(X_train, y_train)"
   ]
  },
  {
   "cell_type": "code",
   "execution_count": 31,
   "metadata": {},
   "outputs": [],
   "source": [
    "cat_params = {'iterations': 1000,\n",
    "              'learning_rate': 0.1,\n",
    "              'depth': 6,\n",
    "              'loss_function': 'MAE',\n",
    "              'random_seed': 42,\n",
    "              'cat_features' : ['cluster','age_category','contract_type','subway_info'],\n",
    "              'verbose': 100}\n",
    "\n",
    "cb_model_ = cb.CatBoostRegressor(**cat_params)"
   ]
  },
  {
   "cell_type": "code",
   "execution_count": 32,
   "metadata": {},
   "outputs": [
    {
     "name": "stdout",
     "output_type": "stream",
     "text": [
      "0:\tlearn: 16062.5785615\ttotal: 509ms\tremaining: 8m 28s\n",
      "100:\tlearn: 6666.8320183\ttotal: 40.2s\tremaining: 5m 58s\n",
      "200:\tlearn: 6011.8163837\ttotal: 1m 19s\tremaining: 5m 17s\n",
      "300:\tlearn: 5694.5726935\ttotal: 2m\tremaining: 4m 39s\n",
      "400:\tlearn: 5487.1838547\ttotal: 2m 40s\tremaining: 4m\n",
      "500:\tlearn: 5349.7384726\ttotal: 3m 20s\tremaining: 3m 20s\n",
      "600:\tlearn: 5230.7792478\ttotal: 4m\tremaining: 2m 39s\n",
      "700:\tlearn: 5141.7336926\ttotal: 4m 39s\tremaining: 1m 59s\n",
      "800:\tlearn: 5061.5936939\ttotal: 5m 20s\tremaining: 1m 19s\n",
      "900:\tlearn: 5001.8673484\ttotal: 6m\tremaining: 39.6s\n",
      "999:\tlearn: 4945.5969887\ttotal: 6m 39s\tremaining: 0us\n"
     ]
    },
    {
     "data": {
      "text/plain": [
       "<catboost.core.CatBoostRegressor at 0x7f975c14a170>"
      ]
     },
     "execution_count": 32,
     "metadata": {},
     "output_type": "execute_result"
    }
   ],
   "source": [
    "cb_model_.fit(X_train,y_train)"
   ]
  },
  {
   "cell_type": "code",
   "execution_count": 33,
   "metadata": {},
   "outputs": [
    {
     "name": "stdout",
     "output_type": "stream",
     "text": [
      "[LightGBM] [Info] Auto-choosing row-wise multi-threading, the overhead of testing was 0.017260 seconds.\n",
      "You can set `force_row_wise=true` to remove the overhead.\n",
      "And if memory is not enough, you can set `force_col_wise=true`.\n",
      "[LightGBM] [Info] Total Bins 3112\n",
      "[LightGBM] [Info] Number of data points in the train set: 1515867, number of used features: 20\n",
      "[LightGBM] [Info] Start training from score 37853.227009\n",
      "0:\tlearn: 16062.5785615\ttotal: 461ms\tremaining: 7m 40s\n",
      "100:\tlearn: 6666.8320183\ttotal: 39.9s\tremaining: 5m 54s\n",
      "200:\tlearn: 6011.8163837\ttotal: 1m 20s\tremaining: 5m 19s\n",
      "300:\tlearn: 5694.5726935\ttotal: 2m 1s\tremaining: 4m 43s\n",
      "400:\tlearn: 5487.1838547\ttotal: 2m 42s\tremaining: 4m 2s\n",
      "500:\tlearn: 5349.7384726\ttotal: 3m 22s\tremaining: 3m 21s\n",
      "600:\tlearn: 5230.7792478\ttotal: 4m 2s\tremaining: 2m 40s\n",
      "700:\tlearn: 5141.7336926\ttotal: 4m 41s\tremaining: 2m\n",
      "800:\tlearn: 5061.5936939\ttotal: 5m 21s\tremaining: 1m 19s\n",
      "900:\tlearn: 5001.8673484\ttotal: 6m 1s\tremaining: 39.8s\n",
      "999:\tlearn: 4945.5969887\ttotal: 6m 41s\tremaining: 0us\n",
      "Ensemble MAE: 5008.550389442523\n"
     ]
    }
   ],
   "source": [
    "# VotingRegressor로 앙상블\n",
    "voting_ensemble = VotingRegressor(estimators=[\n",
    "    ('xgb', xgb_model_),\n",
    "    ('lgb', lgb_model_),\n",
    "    ('cb', cb_model_)\n",
    "])\n",
    "\n",
    "voting_ensemble.fit(X_train, y_train)\n",
    "\n",
    "ensemble_predictions = voting_ensemble.predict(X_valid)\n",
    "ensemble_mae = mean_absolute_error(y_valid, ensemble_predictions)\n",
    "\n",
    "print(\"Ensemble MAE:\", ensemble_mae)"
   ]
  },
  {
   "cell_type": "code",
   "execution_count": 41,
   "metadata": {},
   "outputs": [
    {
     "name": "stdout",
     "output_type": "stream",
     "text": [
      "Training with total dataset...\n",
      "[LightGBM] [Info] Auto-choosing col-wise multi-threading, the overhead of testing was 0.082494 seconds.\n",
      "You can set `force_col_wise=true` to remove the overhead.\n",
      "[LightGBM] [Info] Total Bins 3118\n",
      "[LightGBM] [Info] Number of data points in the train set: 1714416, number of used features: 20\n",
      "[LightGBM] [Info] Start training from score 38207.326595\n",
      "0:\tlearn: 16208.7052522\ttotal: 518ms\tremaining: 8m 37s\n",
      "100:\tlearn: 6634.4973610\ttotal: 45.7s\tremaining: 6m 47s\n",
      "200:\tlearn: 5985.4949807\ttotal: 1m 30s\tremaining: 5m 59s\n",
      "300:\tlearn: 5651.6050489\ttotal: 2m 16s\tremaining: 5m 16s\n",
      "400:\tlearn: 5454.2989698\ttotal: 3m 1s\tremaining: 4m 30s\n",
      "500:\tlearn: 5305.4206254\ttotal: 3m 47s\tremaining: 3m 46s\n",
      "600:\tlearn: 5190.2440325\ttotal: 4m 33s\tremaining: 3m 1s\n",
      "700:\tlearn: 5098.9972331\ttotal: 5m 18s\tremaining: 2m 15s\n",
      "800:\tlearn: 5014.3619231\ttotal: 6m 3s\tremaining: 1m 30s\n",
      "900:\tlearn: 4952.6586869\ttotal: 6m 49s\tremaining: 44.9s\n",
      "999:\tlearn: 4895.3883636\ttotal: 7m 34s\tremaining: 0us\n"
     ]
    },
    {
     "ename": "NameError",
     "evalue": "name 'submission' is not defined",
     "output_type": "error",
     "traceback": [
      "\u001b[0;31m---------------------------------------------------------------------------\u001b[0m",
      "\u001b[0;31mNameError\u001b[0m                                 Traceback (most recent call last)",
      "Cell \u001b[0;32mIn[41], line 19\u001b[0m\n\u001b[1;32m     16\u001b[0m sample_submission[\u001b[38;5;124m'\u001b[39m\u001b[38;5;124mdeposit\u001b[39m\u001b[38;5;124m'\u001b[39m] \u001b[38;5;241m=\u001b[39m ensemble_predictions\n\u001b[1;32m     18\u001b[0m \u001b[38;5;66;03m# save sample submission\u001b[39;00m\n\u001b[0;32m---> 19\u001b[0m common_utils\u001b[38;5;241m.\u001b[39msubmission_to_csv(\u001b[43msubmission\u001b[49m, \u001b[38;5;124m'\u001b[39m\u001b[38;5;124mtest_all_columns + xgboost\u001b[39m\u001b[38;5;124m'\u001b[39m)\n",
      "\u001b[0;31mNameError\u001b[0m: name 'submission' is not defined"
     ]
    }
   ],
   "source": [
    "# train with total dataset\n",
    "print(\"Training with total dataset...\")\n",
    "X_total, y_total = common_utils.train_valid_concat(X_train, X_valid, y_train, y_valid)\n",
    "\n",
    "# VotingRegressor로 앙상블\n",
    "voting_ensemble = VotingRegressor(estimators=[\n",
    "    ('xgb', xgb_model_),\n",
    "    ('lgb', lgb_model_),\n",
    "    ('cb', cb_model_)\n",
    "])\n",
    "\n",
    "voting_ensemble.fit(X_total, y_total)\n",
    "\n",
    "ensemble_predictions = voting_ensemble.predict(X_test)\n",
    "sample_submission = Directory.sample_submission\n",
    "sample_submission['deposit'] = ensemble_predictions"
   ]
  },
  {
   "cell_type": "code",
   "execution_count": 44,
   "metadata": {},
   "outputs": [],
   "source": [
    "# save sample submission\n",
    "\n",
    "submission_path = os.path.join(\"/data/ephemeral/home/level2-competitiveds-recsys-01/\", \"submission\")\n",
    "os.makedirs(submission_path, exist_ok=True)\n",
    "file_name = \"feature 20 + voting\"\n",
    "file_name += '_' + time.strftime('%x', time.localtime())[:5].replace('/','') + '.csv'\n",
    "\n",
    "submission_file_path = os.path.join(submission_path, file_name)\n",
    "sample_submission.to_csv(submission_file_path, index=False, encoding='utf-8-sig')"
   ]
  },
  {
   "cell_type": "markdown",
   "metadata": {},
   "source": [
    "###### boosting ensemble"
   ]
  },
  {
   "cell_type": "markdown",
   "metadata": {},
   "source": [
    "###### stacking ensemble"
   ]
  },
  {
   "cell_type": "code",
   "execution_count": null,
   "metadata": {},
   "outputs": [],
   "source": [
    "features = list(final_importance['features'].values)\n",
    "\n",
    "print(\"standardization...\")\n",
    "train_data_, valid_data_, test_data_ = preprocessing.standardization(train_data, valid_data, test_data, scaling_type = 'standard')\n",
    "train_data_scaled, valid_data_scaled, test_data_scaled = preprocessing.feature_selection(train_data_, valid_data_, test_data_)\n",
    "\n",
    "train_data_scaled_f = train_data_scaled[features + ['deposit']]\n",
    "valid_data_scaled_f = valid_data_scaled[features + ['deposit']]\n",
    "test_data_scaled_f = test_data_scaled[features]\n",
    "\n",
    "# feature split\n",
    "X_train, y_train, X_valid, y_valid, X_test = common_utils.split_feature_target(train_data_scaled_f, valid_data_scaled_f, test_data_scaled_f)"
   ]
  },
  {
   "cell_type": "code",
   "execution_count": null,
   "metadata": {},
   "outputs": [],
   "source": [
    "xgb_model_ = model.xgboost(X_train, y_train)\n",
    "lgb_model_ = model.lightgbm(X_train, y_train)"
   ]
  },
  {
   "cell_type": "code",
   "execution_count": null,
   "metadata": {},
   "outputs": [],
   "source": [
    "cat_params = {'iterations': 1000,\n",
    "              'learning_rate': 0.1,\n",
    "              'depth': 6,\n",
    "              'loss_function': 'MAE',\n",
    "              'random_seed': 42,\n",
    "              'cat_features' : ['cluster','age_category','contract_type','subway_info'],\n",
    "              'verbose': 100}\n",
    "\n",
    "cb_model_ = cb.CatBoostRegressor(**cat_params)"
   ]
  },
  {
   "cell_type": "code",
   "execution_count": null,
   "metadata": {},
   "outputs": [],
   "source": [
    "# StackingRegressor 정의\n",
    "stacking_ensemble = StackingRegressor(\n",
    "    estimators=[\n",
    "        ('xgb', xgb_model_),\n",
    "        ('lgb', lgb_model_),\n",
    "        ('cb', cb_model_)\n",
    "    ],\n",
    "    final_estimator=LinearRegression()  # 메타 모델로 사용할 모델\n",
    ")\n",
    "\n",
    "# 스태킹 모델 학습\n",
    "stacking_ensemble.fit(X_train, y_train)\n",
    "\n",
    "# 예측\n",
    "stacking_predictions = stacking_ensemble.predict(X_valid)\n",
    "stacking_mae = mean_absolute_error(y_valid, stacking_predictions)\n",
    "\n",
    "print(\"Stacking Ensemble MAE:\", stacking_mae)"
   ]
  },
  {
   "cell_type": "markdown",
   "metadata": {},
   "source": [
    "##### rf"
   ]
  },
  {
   "cell_type": "code",
   "execution_count": 37,
   "metadata": {},
   "outputs": [
    {
     "name": "stdout",
     "output_type": "stream",
     "text": [
      "Training with randomforest...\n"
     ]
    }
   ],
   "source": [
    "## random forest code(너무 오래걸림)\n",
    "print(\"Training with randomforest...\")\n",
    "train_data_, valid_data_, test_data_ = preprocessing.standardization(train_data, valid_data, test_data, scaling_type = 'standard')\n",
    "train_data_scaled_rf, valid_data_scaled_rf, test_data_scaled_rf = preprocessing.feature_selection(train_data_, valid_data_, test_data_)"
   ]
  },
  {
   "cell_type": "code",
   "execution_count": 43,
   "metadata": {},
   "outputs": [],
   "source": [
    "train_data_scaled_rf['contract_type'] = train_data_scaled_rf['contract_type'].replace({'unknown' : 0, 'new' : 1, 'renew' : 2})\n",
    "valid_data_scaled_rf['contract_type'] = valid_data_scaled_rf['contract_type'].replace({'unknown' : 0, 'new' : 1, 'renew' : 2})\n",
    "test_data_scaled_rf['contract_type'] = test_data_scaled_rf['contract_type'].replace({'unknown' : 0, 'new' : 1, 'renew' : 2})\n",
    "\n",
    "train_data_scaled_rf['distance_category'] = train_data_scaled_rf['distance_category'].replace({'10km 초과' : 0, '5~10km 이내' : '1', '5km 이내' : '2'})\n",
    "valid_data_scaled_rf['distance_category'] = valid_data_scaled_rf['distance_category'].replace({'10km 초과' : 0, '5~10km 이내' : '1', '5km 이내' : '2'})\n",
    "test_data_scaled_rf['distance_category'] = test_data_scaled_rf['distance_category'].replace({'10km 초과' : 0, '5~10km 이내' : '1', '5km 이내' : '2'})\n",
    "\n",
    "train_data_scaled_rf['age_category'] = train_data_scaled_rf['age_category'].replace({'Other' : '50'})\n",
    "valid_data_scaled_rf['age_category'] = valid_data_scaled_rf['age_category'].replace({'Other' : '50'})\n",
    "test_data_scaled_rf['age_category'] = test_data_scaled_rf['age_category'].replace({'Other' : '50'})\n",
    "\n",
    "\n",
    "train_data_scaled_rf['floor_category'] = train_data_scaled_rf['floor_category'].replace({'25~30' : '27', 'Other' : '40'})\n",
    "valid_data_scaled_rf['floor_category'] = valid_data_scaled_rf['floor_category'].replace({'25~30' : '27', 'Other' : '40'})\n",
    "test_data_scaled_rf['floor_category'] = test_data_scaled_rf['floor_category'].replace({'25~30' : '27', 'Other' : '40'})\n",
    "\n",
    "train_data_scaled_rf['area_category'] = train_data_scaled_rf['area_category'].replace({'60 under' : '60', '60~85' : '69', '85 over' : '88'})\n",
    "valid_data_scaled_rf['area_category'] = valid_data_scaled_rf['area_category'].replace({'60 under' : '60', '60~85' : '69', '85 over' : '88'})\n",
    "test_data_scaled_rf['area_category'] = test_data_scaled_rf['area_category'].replace({'60 under' : '60', '60~85' : '69', '85 over' : '88'})\n"
   ]
  },
  {
   "cell_type": "code",
   "execution_count": null,
   "metadata": {},
   "outputs": [],
   "source": [
    "# feature split\n",
    "X_train, y_train, X_valid, y_valid, X_test = common_utils.split_feature_target(train_data_scaled_rf, valid_data_scaled_rf, test_data_scaled_rf)\n",
    "\n",
    "rf_model_ = model.randomforest(X_train, y_train)\n",
    "rf_prediction, rf_mae = inference(rf_model_, 'validation', X_valid, y_valid)"
   ]
  },
  {
   "cell_type": "code",
   "execution_count": null,
   "metadata": {},
   "outputs": [],
   "source": [
    "importance = rf_model_.feature_importances_\n",
    "        \n",
    "train_df = train_data_.copy()\n",
    "train_df = train_df.drop(columns = ['deposit'], axis=1)\n",
    "\n",
    "importance_df = pd.DataFrame({\n",
    "    'features': train_df.columns,\n",
    "    'importance': importance\n",
    "}).sort_values(by='importance', ascending=False)\n",
    "rf_top_n_features = list(importance_df.head(20)['features'].values)\n",
    "rf_top_n_features"
   ]
  }
 ],
 "metadata": {
  "kernelspec": {
   "display_name": ".venv",
   "language": "python",
   "name": "python3"
  },
  "language_info": {
   "codemirror_mode": {
    "name": "ipython",
    "version": 3
   },
   "file_extension": ".py",
   "mimetype": "text/x-python",
   "name": "python",
   "nbconvert_exporter": "python",
   "pygments_lexer": "ipython3",
   "version": "3.10.13"
  }
 },
 "nbformat": 4,
 "nbformat_minor": 2
}
