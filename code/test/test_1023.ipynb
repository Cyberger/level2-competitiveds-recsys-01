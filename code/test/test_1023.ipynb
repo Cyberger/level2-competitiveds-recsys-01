{
 "cells": [
  {
   "cell_type": "markdown",
   "metadata": {},
   "source": [
    "#### library"
   ]
  },
  {
   "cell_type": "code",
   "execution_count": 1,
   "metadata": {},
   "outputs": [
    {
     "name": "stderr",
     "output_type": "stream",
     "text": [
      "/data/ephemeral/home/.venv/lib/python3.10/site-packages/tqdm/auto.py:21: TqdmWarning: IProgress not found. Please update jupyter and ipywidgets. See https://ipywidgets.readthedocs.io/en/stable/user_install.html\n",
      "  from .autonotebook import tqdm as notebook_tqdm\n"
     ]
    }
   ],
   "source": [
    "import os\n",
    "import pandas as pd\n",
    "import numpy as np\n",
    "import lightgbm as lgb\n",
    "import matplotlib.pyplot as plt\n",
    "import seaborn as sns\n",
    "from haversine import haversine, Unit\n",
    "import sys\n",
    "from datetime import datetime, timedelta\n",
    "from geopy.distance import great_circle\n",
    "\n",
    "from sklearn.neighbors import KDTree, BallTree\n",
    "from sklearn.metrics import mean_absolute_error\n",
    "from sklearn.preprocessing import LabelEncoder, OneHotEncoder, StandardScaler, MinMaxScaler\n",
    "from sklearn.ensemble import RandomForestRegressor, VotingRegressor, StackingRegressor, GradientBoostingRegressor\n",
    "import optuna\n",
    "import catboost as cb\n",
    "\n",
    "from tqdm import tqdm\n",
    "\n",
    "import warnings\n",
    "warnings.filterwarnings('ignore')\n",
    "\n",
    "utils_directory = os.path.abspath('..')\n",
    "sys.path.append(utils_directory)\n",
    "\n",
    "import preprocessing\n",
    "\n",
    "from utils.constant_utils import Directory\n",
    "from utils import common_utils\n",
    "from models.SpatialWeightMatrix import SpatialWeightMatrix\n",
    "from models.XGBoostWithSpatialWeight import XGBoostWithSpatialWeight\n",
    "\n",
    "\n",
    "import model\n",
    "from inference import *\n",
    "\n",
    "features_directory = os.path.abspath('../features')\n",
    "sys.path.append(features_directory)\n",
    "\n",
    "from clustering_features import *\n",
    "from count_features import *\n",
    "from distance_features import *\n",
    "from other_features import *\n",
    "from deposit_features import *"
   ]
  },
  {
   "cell_type": "markdown",
   "metadata": {},
   "source": [
    "#### data load"
   ]
  },
  {
   "cell_type": "code",
   "execution_count": 2,
   "metadata": {},
   "outputs": [
    {
     "name": "stdout",
     "output_type": "stream",
     "text": [
      "Start the main.py successfully!\n",
      "total data load ...\n"
     ]
    }
   ],
   "source": [
    "print(\"Start the main.py successfully!\")\n",
    "\n",
    "'''\n",
    "name : 실험자 이름입니다.\n",
    "title : result 폴더에 저장될 실험명을 지정합니다.\n",
    "'''\n",
    "name = 'eun'\n",
    "title = 'cluster,timefeature,categorical,drop,gangnam,xgb1000'\n",
    "\n",
    "print(\"total data load ...\")\n",
    "df = common_utils.merge_data(Directory.train_data, Directory.test_data)"
   ]
  },
  {
   "cell_type": "markdown",
   "metadata": {},
   "source": [
    "##### deposit features"
   ]
  },
  {
   "cell_type": "code",
   "execution_count": 3,
   "metadata": {},
   "outputs": [],
   "source": [
    "def add_recent_rent_in_building(total_df: pd.DataFrame, type: str = 'valid'):\n",
    "    total_df['contract_date'] = total_df['contract_year_month'] * 100 + total_df['contract_day']\n",
    "    total_df['contract_date'] = pd.to_datetime(total_df['contract_date'], format='%Y%m%d')\n",
    "\n",
    "    df_train, df_valid, df_test = common_utils.train_valid_test_split(total_df)\n",
    "\n",
    "    if type == 'valid':\n",
    "        df_train_new = df_train.copy()\n",
    "        df_valid_new = df_valid.copy()\n",
    "\n",
    "        df_train_sorted = df_train_new.sort_values(by=['latitude', 'longitude', 'built_year', 'area_m2', 'contract_date'])\n",
    "\n",
    "        df_train_sorted['recent_rent_in_building'] = df_train_sorted.groupby(['latitude', 'longitude', 'built_year', 'area_m2'])['deposit'].shift(1)\n",
    "        df_train_sorted['recent_rent_in_building'].fillna(df_train_sorted['deposit'], inplace=True)\n",
    "\n",
    "        # 마지막 계약가 계산\n",
    "        recent_rent_index = df_train_sorted.groupby(['latitude', 'longitude', 'built_year', 'area_m2'])['recent_rent_in_building'].nth(-1).index\n",
    "        recent_rent_df = df_train_sorted.loc[recent_rent_index]\n",
    "\n",
    "        df_valid_new = df_valid_new.merge(recent_rent_df[['latitude', 'longitude', 'built_year', 'area_m2', 'recent_rent_in_building']], \n",
    "                                           on=['latitude', 'longitude', 'built_year', 'area_m2'], how='left')\n",
    "\n",
    "        df_valid_new.fillna(recent_rent_df['recent_rent_in_building'].median(), inplace=True)\n",
    "\n",
    "        return df_train_sorted.sort_index(), df_valid_new\n",
    "        \n",
    "    elif type == 'test':\n",
    "        df_train_new = df_train.copy()\n",
    "        df_valid_new = df_valid.copy()\n",
    "        df_test_new = df_test.copy()\n",
    "\n",
    "        df_total_new = pd.concat([df_train_new, df_valid_new], axis=0)\n",
    "        df_total_new_sorted = df_total_new.sort_values(by=['latitude', 'longitude', 'built_year', 'area_m2', 'contract_date'])\n",
    "\n",
    "        df_total_new_sorted['recent_rent_in_building'] = df_total_new_sorted.groupby(['latitude', 'longitude', 'built_year', 'area_m2'])['deposit'].shift(1)\n",
    "        df_total_new_sorted['recent_rent_in_building'].fillna(df_total_new_sorted['deposit'], inplace=True)\n",
    "\n",
    "        # 마지막 계약가 계산\n",
    "        recent_rent_index = df_total_new_sorted.groupby(['latitude', 'longitude', 'built_year', 'area_m2'])['recent_rent_in_building'].nth(-1).index\n",
    "        recent_rent_df = df_total_new_sorted.loc[recent_rent_index]\n",
    "\n",
    "        df_test_new = df_test_new.merge(recent_rent_df[['latitude', 'longitude', 'built_year', 'area_m2', 'recent_rent_in_building']], \n",
    "                                         on=['latitude', 'longitude', 'built_year', 'area_m2'], how='left')\n",
    "\n",
    "        df_test_new.fillna(recent_rent_df['recent_rent_in_building'].median(), inplace=True)\n",
    "\n",
    "        return df_total_new_sorted.sort_index(), df_test_new"
   ]
  },
  {
   "cell_type": "code",
   "execution_count": 4,
   "metadata": {},
   "outputs": [],
   "source": [
    "# 동일한 지역(위도, 경도, 건축연도, 면적)의 과거 평균 전세가(중앙값으로 계산)\n",
    "def add_avg_rent_in_past_year(total_df : pd.DataFrame, type : str = 'valid'):\n",
    "    \n",
    "    df_train, df_valid, df_test = common_utils.train_valid_test_split(total_df)\n",
    "\n",
    "\n",
    "    if type == 'valid':\n",
    "        df_train_new = df_train.copy()\n",
    "        df_valid_new = df_valid.copy()\n",
    "        \n",
    "        \n",
    "        df_train_new['contract_date'] = df_train_new['contract_year_month'] * 100 + df_train_new['contract_day']\n",
    "        df_train_new['contract_date'] = pd.to_datetime(df_train_new['contract_date'], format='%Y%m%d')\n",
    "        \n",
    "        \n",
    "        df_train_new['original_index'] = df_train_new.index\n",
    "        df_train_new = df_train_new.sort_values(by=['latitude', 'longitude','area_m2','built_year','contract_date'], ascending=[True, True, True, True, True])\n",
    "        \n",
    "        df_train_new['avg_rent_in_past_year'] = df_train_new.groupby(['latitude', 'longitude','built_year', 'area_m2'])['deposit'].transform(lambda x : x.shift(1).expanding().median().round(1))\n",
    "        df_train_new['avg_rent_in_past_year'].fillna(df_train_new['deposit'], inplace=True)\n",
    "\n",
    "        df_train_new = df_train_new.sort_values(by='original_index').drop(columns='original_index')\n",
    "        \n",
    "        df_train_new_map = df_train_new.groupby(['latitude', 'longitude','built_year', 'area_m2'])['deposit'].median().reset_index()\n",
    "\n",
    "        df_train_new_map.rename(columns={'deposit': 'deposit_median'}, inplace=True)\n",
    "        df_valid_new = df_valid_new.merge(df_train_new_map, on=['latitude', 'longitude', 'built_year', 'area_m2'], how='left')\n",
    "        \n",
    "        df_valid_new['deposit_median'].fillna(df_train_new_map['deposit_median'].median(), inplace=True)\n",
    "\n",
    "\n",
    "        return df_train_new, df_valid_new\n",
    "        \n",
    "        \n",
    "    elif type == 'test':\n",
    "        df_train_new = df_train.copy()\n",
    "        df_valid_new = df_valid.copy()\n",
    "        \n",
    "        df_total_new = pd.concat([df_train_new, df_valid_new], axis=0)\n",
    "        \n",
    "        df_test_new = df_test.copy()\n",
    "        \n",
    "        \n",
    "        df_total_new['contract_date'] = df_total_new['contract_year_month'] * 100 + df_total_new['contract_day']\n",
    "        df_total_new['contract_date'] = pd.to_datetime(df_total_new['contract_date'], format='%Y%m%d')\n",
    "        \n",
    "        \n",
    "        df_total_new['original_index'] = df_total_new.index\n",
    "        df_total_new = df_total_new.sort_values(by=['latitude', 'longitude','area_m2','built_year','contract_date'], ascending=[True, True, True, True, True])\n",
    "        \n",
    "        df_total_new['avg_rent_in_past_year'] = df_total_new.groupby(['latitude', 'longitude','built_year', 'area_m2'])['deposit'].transform(lambda x : x.shift(1).expanding().median().round(1))\n",
    "        df_total_new['avg_rent_in_past_year'].fillna(df_total_new['deposit'], inplace=True)\n",
    "\n",
    "        df_total_new = df_total_new.sort_values(by='original_index').drop(columns='original_index')\n",
    "        \n",
    "        df_total_new_map = df_total_new.groupby(['latitude', 'longitude','built_year', 'area_m2'])['deposit'].median().reset_index()\n",
    "        \n",
    "        df_total_new_map.rename(columns={'deposit': 'deposit_median'}, inplace=True)\n",
    "        df_test_new = df_test_new.merge(df_total_new_map, on=['latitude', 'longitude', 'built_year', 'area_m2'], how='left')\n",
    "        \n",
    "        df_test_new['deposit_median'].fillna(df_total_new_map['deposit_median'].median(), inplace=True)\n",
    "    \n",
    "    return df_total_new, df_test_new"
   ]
  },
  {
   "cell_type": "code",
   "execution_count": 5,
   "metadata": {},
   "outputs": [],
   "source": [
    "# 연도별 전세가 상승률\n",
    "def add_rent_growth_rate(total_df: pd.DataFrame, type: str = 'valid'):\n",
    "    total_df['contract_year'] = total_df['contract_year_month'] // 100\n",
    "\n",
    "    df_train, df_valid, df_test = common_utils.train_valid_test_split(total_df)\n",
    "\n",
    "    if type == 'valid':\n",
    "        df_train_new = df_train.copy()\n",
    "        df_valid_new = df_valid.copy()\n",
    "\n",
    "        # 연도별 전세가 중앙값 계산\n",
    "        median_deposit = df_train_new.groupby(['latitude', 'longitude', 'contract_year'])['deposit'].median().reset_index()\n",
    "        median_deposit['previous_year_deposit'] = median_deposit.groupby(['latitude', 'longitude'])['deposit'].shift(1)\n",
    "        median_deposit['deposit_rate'] = ((median_deposit['deposit'] - median_deposit['previous_year_deposit']) / median_deposit['previous_year_deposit']).round(2)\n",
    "\n",
    "        # 연도별 평균 상승률 계산\n",
    "        mean_deposit_rate_per_year = median_deposit.groupby('contract_year')['deposit_rate'].transform('mean').round(2)\n",
    "        median_deposit['deposit_rate'] = median_deposit['deposit_rate'].fillna(mean_deposit_rate_per_year)\n",
    "\n",
    "        # 전체 평균 상승률 계산\n",
    "        median_deposit['deposit_rate'] = median_deposit['deposit_rate'].fillna(median_deposit['deposit_rate'].mean().round(2))\n",
    "\n",
    "        # train 데이터에 전세가 상승률 추가\n",
    "        df_train_new = df_train_new.merge(median_deposit[['latitude', 'longitude', 'contract_year', 'deposit_rate']], \n",
    "                                          on=['latitude', 'longitude', 'contract_year'], how='left')\n",
    "\n",
    "        # valid 데이터에 최신 전세가 상승률 추가\n",
    "        recent_data = median_deposit.loc[median_deposit.groupby(['latitude', 'longitude'])['contract_year'].idxmax()]\n",
    "        df_valid_new = df_valid_new.merge(recent_data[['latitude', 'longitude', 'deposit_rate']], \n",
    "                                          on=['latitude', 'longitude'], how='left')\n",
    "        \n",
    "        df_valid_new['deposit_rate'] = df_valid_new['deposit_rate'].fillna(median_deposit['deposit_rate'].mean().round(2))\n",
    "\n",
    "        # 결과를 합쳐서 반환\n",
    "        return df_train_new.sort_index(), df_valid_new.sort_index()\n",
    "\n",
    "    elif type == 'test':\n",
    "        df_train_new = df_train.copy()\n",
    "        df_valid_new = df_valid.copy()\n",
    "        df_test_new = df_test.copy()\n",
    "\n",
    "        # train + valid 데이터를 결합\n",
    "        df_total_new = pd.concat([df_train_new, df_valid_new], axis=0)\n",
    "\n",
    "        # 연도별 전세가 중앙값 계산\n",
    "        median_deposit = df_total_new.groupby(['latitude', 'longitude', 'contract_year'])['deposit'].median().reset_index()\n",
    "        median_deposit['previous_year_deposit'] = median_deposit.groupby(['latitude', 'longitude'])['deposit'].shift(1)\n",
    "        median_deposit['deposit_rate'] = ((median_deposit['deposit'] - median_deposit['previous_year_deposit']) / median_deposit['previous_year_deposit']).round(2)\n",
    "\n",
    "        # 연도별 평균 상승률 계산\n",
    "        mean_deposit_rate_per_year = median_deposit.groupby('contract_year')['deposit_rate'].transform('mean').round(2)\n",
    "        median_deposit['deposit_rate'] = median_deposit['deposit_rate'].fillna(mean_deposit_rate_per_year)\n",
    "\n",
    "        # 전체 평균 상승률 계산\n",
    "        median_deposit['deposit_rate'] = median_deposit['deposit_rate'].fillna(median_deposit['deposit_rate'].mean().round(2))\n",
    "\n",
    "        # train + valid 데이터에 전세가 상승률 추가\n",
    "        df_total_new = df_total_new.merge(median_deposit[['latitude', 'longitude', 'contract_year', 'deposit_rate']], \n",
    "                                          on=['latitude', 'longitude', 'contract_year'], how='left')\n",
    "\n",
    "        # test 데이터에 최신 전세가 상승률 추가\n",
    "        recent_data = median_deposit.loc[median_deposit.groupby(['latitude', 'longitude'])['contract_year'].idxmax()]\n",
    "        df_test_new = df_test_new.merge(recent_data[['latitude', 'longitude', 'deposit_rate']], \n",
    "                                        on=['latitude', 'longitude'], how='left')\n",
    "\n",
    "        df_test_new['deposit_rate'] = df_test_new['deposit_rate'].fillna(median_deposit['deposit_rate'].mean().round(2))\n",
    "\n",
    "        # 결과를 합쳐서 반환\n",
    "        return df_total_new.sort_index(), df_test_new.sort_index()\n"
   ]
  },
  {
   "cell_type": "code",
   "execution_count": 6,
   "metadata": {},
   "outputs": [],
   "source": [
    "def deposit_fe(df):\n",
    "    df = add_recent_rent_in_building(total_df)\n",
    "    # df = add_avg_rent_in_past_year(df)\n",
    "    df = add_rent_growth_rate(df)\n",
    "    return df"
   ]
  },
  {
   "cell_type": "code",
   "execution_count": 7,
   "metadata": {},
   "outputs": [
    {
     "ename": "NameError",
     "evalue": "name 'total_df' is not defined",
     "output_type": "error",
     "traceback": [
      "\u001b[0;31m---------------------------------------------------------------------------\u001b[0m",
      "\u001b[0;31mNameError\u001b[0m                                 Traceback (most recent call last)",
      "Cell \u001b[0;32mIn[7], line 1\u001b[0m\n\u001b[0;32m----> 1\u001b[0m new_df_fe \u001b[38;5;241m=\u001b[39m deposit_fe(\u001b[43mtotal_df\u001b[49m)\n\u001b[1;32m      2\u001b[0m new_df_fe \u001b[38;5;241m=\u001b[39m new_df_fe\u001b[38;5;241m.\u001b[39mdrop(columns \u001b[38;5;241m=\u001b[39m [\u001b[38;5;124m'\u001b[39m\u001b[38;5;124mcontract_date\u001b[39m\u001b[38;5;124m'\u001b[39m])\n\u001b[1;32m      3\u001b[0m new_df_fe[\u001b[38;5;124m'\u001b[39m\u001b[38;5;124mrecent_rent_in_building\u001b[39m\u001b[38;5;124m'\u001b[39m]\u001b[38;5;241m.\u001b[39mfillna(\u001b[38;5;241m0\u001b[39m, inplace\u001b[38;5;241m=\u001b[39m\u001b[38;5;28;01mTrue\u001b[39;00m)\n",
      "\u001b[0;31mNameError\u001b[0m: name 'total_df' is not defined"
     ]
    }
   ],
   "source": [
    "new_df_fe = deposit_fe(total_df)\n",
    "new_df_fe = new_df_fe.drop(columns = ['contract_date'])\n",
    "new_df_fe['recent_rent_in_building'].fillna(0, inplace=True)\n",
    "new_df_fe.head(3)"
   ]
  },
  {
   "cell_type": "markdown",
   "metadata": {},
   "source": [
    "##### fe"
   ]
  },
  {
   "cell_type": "code",
   "execution_count": 3,
   "metadata": {},
   "outputs": [
    {
     "name": "stdout",
     "output_type": "stream",
     "text": [
      "clustering apply ...\n",
      "start to cleaning outliers...\n",
      "train, valid, test split for preprocessing & feature engineering ...\n",
      "start to preprocessing...\n"
     ]
    }
   ],
   "source": [
    "### 클러스터 피처 apply\n",
    "print(\"clustering apply ...\")\n",
    "for info_df_name in ['subway_info', 'school_info', 'park_info']:\n",
    "    info_df = getattr(Directory, info_df_name)  \n",
    "    df = clustering(df, info_df, feat_name=info_df_name, n_clusters=20)\n",
    "\n",
    "### 이상치 처리\n",
    "print(\"start to cleaning outliers...\")\n",
    "df = preprocessing.handle_age_outliers(df)\n",
    "\n",
    "### 데이터 분할\n",
    "print(\"train, valid, test split for preprocessing & feature engineering ...\")\n",
    "train_data_, valid_data_, test_data_ = common_utils.train_valid_test_split(df)\n",
    "\n",
    "\n",
    "### 데이터 전처리\n",
    "print(\"start to preprocessing...\")\n",
    "# type 카테고리화\n",
    "train_data_ = preprocessing.numeric_to_categoric(train_data_, 'contract_type', {0:'new', 1:'renew', 2:'unknown'})\n",
    "valid_data_ = preprocessing.numeric_to_categoric(valid_data_, 'contract_type', {0:'new', 1:'renew', 2:'unknown'})\n",
    "test_data_ = preprocessing.numeric_to_categoric(test_data_, 'contract_type', {0:'new', 1:'renew', 2:'unknown'})\n",
    "\n",
    "# 중복 제거\n",
    "train_data_ = preprocessing.handle_duplicates(train_data_)\n",
    "valid_data_ = preprocessing.handle_duplicates(valid_data_)"
   ]
  },
  {
   "cell_type": "code",
   "execution_count": 5,
   "metadata": {},
   "outputs": [
    {
     "name": "stdout",
     "output_type": "stream",
     "text": [
      "start to feature engineering...\n",
      "create clustering features\n",
      "create distance features\n",
      "create other features\n",
      "create count features\n",
      "Loading pre-calculated transaction data for 3 months.\n"
     ]
    }
   ],
   "source": [
    "### 피처 엔지니어링\n",
    "print(\"start to feature engineering...\")\n",
    "# clustering_feature\n",
    "print(\"create clustering features\")\n",
    "train_data, valid_data, test_data = create_clustering_target(train_data_, valid_data_, test_data_)\n",
    "train_data, valid_data, test_data = create_cluster_deposit_median(train_data, valid_data, test_data)\n",
    "\n",
    "# distance_features\n",
    "\n",
    "print(\"create distance features\")\n",
    "train_data, valid_data, test_data = distance_gangnam(train_data, valid_data, test_data)\n",
    "train_data, valid_data, test_data = create_nearest_subway_distance(train_data, valid_data, test_data)\n",
    "train_data, valid_data, test_data = create_nearest_park_distance_and_area(train_data, valid_data, test_data)\n",
    "train_data, valid_data, test_data = create_nearest_school_distance(train_data, valid_data, test_data)\n",
    "train_data, valid_data, test_data = weighted_subway_distance(train_data, valid_data, test_data)\n",
    "train_data, valid_data, test_data = create_nearest_park_distance_and_area(train_data, valid_data, test_data)\n",
    "\n",
    "# other_features\n",
    "print(\"create other features\")\n",
    "train_data, valid_data, test_data = create_temporal_feature(train_data, valid_data, test_data)\n",
    "train_data, valid_data, test_data = create_sin_cos_season(train_data, valid_data, test_data)\n",
    "train_data, valid_data, test_data = create_floor_area_interaction(train_data, valid_data, test_data)\n",
    "train_data, valid_data, test_data = create_sum_park_area_within_radius(train_data, valid_data, test_data)\n",
    "train_data, valid_data, test_data = shift_interest_rate_function(train_data, valid_data, test_data)\n",
    "train_data, valid_data, test_data = categorization(train_data, valid_data, test_data, category = 'age')\n",
    "train_data, valid_data, test_data = categorization(train_data, valid_data, test_data, category = 'floor')\n",
    "train_data, valid_data, test_data = categorization(train_data, valid_data, test_data, category = 'area_m2')\n",
    "\n",
    "# count_features\n",
    "print(\"create count features\")\n",
    "train_data, valid_data, test_data = transaction_count_function(train_data, valid_data, test_data)\n",
    "# 위의 함수를 바로 실행하기 위한 구조 : data/transaction_data에 train/valid/test_transaction_{month}.txt 구조의 파일이 있어야함\n",
    "train_data, valid_data, test_data = create_subway_within_radius(train_data, valid_data, test_data)\n",
    "train_data, valid_data, test_data = create_school_within_radius(train_data, valid_data, test_data)\n",
    "train_data, valid_data, test_data = create_school_counts_within_radius_by_school_level(train_data, valid_data, test_data)\n",
    "train_data, valid_data, test_data = create_place_within_radius(train_data, valid_data, test_data)"
   ]
  },
  {
   "cell_type": "code",
   "execution_count": 6,
   "metadata": {},
   "outputs": [
    {
     "name": "stdout",
     "output_type": "stream",
     "text": [
      "create deposit feature 1\n",
      "create deposit feature 2\n",
      "create deposit feature 3\n"
     ]
    }
   ],
   "source": [
    "## deposit feature\n",
    "print(\"create deposit feature 1\")\n",
    "train_data_dep, valid_data_dep = add_recent_rent_in_building(train_data, valid_data, type = 'valid')\n",
    "print(\"create deposit feature 2\")\n",
    "train_data_dep, valid_data_dep = add_avg_rent_in_past_year(train_data_dep, valid_data_dep, type = 'valid')\n",
    "print(\"create deposit feature 3\")\n",
    "train_data_dep, valid_data_dep = add_rent_growth_rate(train_data_dep, valid_data_dep, type = 'valid')"
   ]
  },
  {
   "cell_type": "code",
   "execution_count": 7,
   "metadata": {},
   "outputs": [],
   "source": [
    "exclude_cols = ['type', 'deposit']\n",
    "\n",
    "    # 스케일링할 수치형 변수 선택\n",
    "features_to_scale = [col for col in train_data_dep.columns \n",
    "                    if col not in exclude_cols and train_data_dep[col].dtype in ['int64', 'float64']]"
   ]
  },
  {
   "cell_type": "code",
   "execution_count": 8,
   "metadata": {},
   "outputs": [
    {
     "name": "stdout",
     "output_type": "stream",
     "text": [
      "standardization...\n"
     ]
    }
   ],
   "source": [
    "### 정규화\n",
    "print(\"standardization...\")\n",
    "\n",
    "exclude_cols = ['type', 'deposit']\n",
    "\n",
    "    # 스케일링할 수치형 변수 선택\n",
    "features_to_scale = [col for col in train_data_dep.columns \n",
    "                    if col not in exclude_cols and train_data_dep[col].dtype in ['int64', 'float64']]\n",
    "\n",
    "scaler = StandardScaler()\n",
    "\n",
    "train_data_scaled = train_data_dep.copy()\n",
    "train_data_scaled[features_to_scale] = scaler.fit_transform(train_data_dep[features_to_scale])\n",
    "\n",
    "valid_data_scaled = valid_data_dep.copy()\n",
    "valid_data_scaled[features_to_scale] = scaler.transform(valid_data_dep[features_to_scale])\n",
    "\n",
    "# feature selection\n",
    "# train_data, valid_data, test_data = preprocessing.feature_selection(train_data, valid_data, test_data)"
   ]
  },
  {
   "cell_type": "code",
   "execution_count": 9,
   "metadata": {},
   "outputs": [],
   "source": [
    "drop_columns = ['type', 'season', 'date']\n",
    "train_data_scaled.drop(drop_columns, axis = 1, inplace = True)\n",
    "valid_data_scaled.drop(drop_columns, axis = 1, inplace = True)"
   ]
  },
  {
   "cell_type": "code",
   "execution_count": 10,
   "metadata": {},
   "outputs": [
    {
     "name": "stdout",
     "output_type": "stream",
     "text": [
      "Training the model...\n",
      "MAE on validation data: 4654.538871784081\n"
     ]
    }
   ],
   "source": [
    "# train model\n",
    "print(\"Training the model...\")\n",
    "\n",
    "# 가중치 행렬 생성\n",
    "spatial_weight_matrix = SpatialWeightMatrix()\n",
    "spatial_weight_matrix.generate_weight_matrices(train_data_scaled, train_data_scaled, dataset_type='train')\n",
    "spatial_weight_matrix.generate_weight_matrices(valid_data_scaled, valid_data_scaled, dataset_type='valid')\n",
    "\n",
    "# 모델 훈련 및 검증\n",
    "model = XGBoostWithSpatialWeight(spatial_weight_matrix)\n",
    "model.train(train_data_scaled, dataset_type='train')\n",
    "\n",
    "mae = model.evaluate(valid_data_scaled, train_data_scaled)"
   ]
  },
  {
   "cell_type": "code",
   "execution_count": 11,
   "metadata": {},
   "outputs": [
    {
     "data": {
      "image/png": "[encoded data removed]",
      "text/plain": [
       "<Figure size 1000x800 with 1 Axes>"
      ]
     },
     "metadata": {},
     "output_type": "display_data"
    }
   ],
   "source": [
    "importance = model.spatial_model.feature_importances_\n",
    "# Feature importance를 DataFrame으로 변환\n",
    "train_df = train_data_scaled.copy()\n",
    "\n",
    "importance_df = pd.DataFrame({\n",
    "    'Feature': train_df.columns,\n",
    "    'Importance': importance\n",
    "}).sort_values(by='Importance', ascending=False)\n",
    "\n",
    "# Feature importance 시각화\n",
    "plt.figure(figsize=(10,8))\n",
    "plt.barh(importance_df['Feature'], importance_df['Importance'], color='skyblue')\n",
    "plt.xlabel('Importance')\n",
    "plt.yticks(fontsize=8)\n",
    "plt.title('Feature Importance')\n",
    "plt.show()"
   ]
  },
  {
   "cell_type": "code",
   "execution_count": 12,
   "metadata": {},
   "outputs": [
    {
     "data": {
      "text/plain": [
       "['recent_rent_in_building',\n",
       " 'public_facility_count',\n",
       " 'built_year',\n",
       " 'distance_km',\n",
       " 'contract_type',\n",
       " 'contract_year_month',\n",
       " 'area_m2',\n",
       " 'avg_rent_in_past_year',\n",
       " 'floor_category',\n",
       " 'deposit_rate',\n",
       " 'interest_rate_6months',\n",
       " 'latitude',\n",
       " 'deposit_median',\n",
       " 'park_info',\n",
       " 'distance_to_centroid',\n",
       " 'elementary_schools_within_radius',\n",
       " 'nearest_park_distance',\n",
       " 'nearest_high_distance',\n",
       " 'floor_area_interaction',\n",
       " 'longitude']"
      ]
     },
     "execution_count": 12,
     "metadata": {},
     "output_type": "execute_result"
    }
   ],
   "source": [
    "#### 상위 20개에 대한 데이터만 실험\n",
    "top_20_features = list(importance_df.head(20)['Feature'].values)\n",
    "top_20_features"
   ]
  },
  {
   "cell_type": "code",
   "execution_count": 13,
   "metadata": {},
   "outputs": [],
   "source": [
    "total_train_data = pd.concat([train_data, valid_data])\n",
    "\n",
    "df_total_new = total_train_data.copy()\n",
    "df_test_new = test_data.copy()\n",
    "\n",
    "df_total_new_sorted = df_total_new.sort_values(by=['latitude', 'longitude', 'built_year', 'area_m2', 'date'])\n",
    "\n",
    "df_total_new_sorted['recent_rent_in_building'] = df_total_new_sorted.groupby(['latitude', 'longitude', 'built_year', 'area_m2'])['deposit'].shift(1)\n",
    "df_total_new_sorted['recent_rent_in_building'].fillna(df_total_new_sorted['deposit'], inplace=True)\n",
    "\n",
    "# 마지막 계약가 계산\n",
    "recent_rent_df_map = df_total_new_sorted[['latitude', 'longitude', 'built_year', 'area_m2', 'recent_rent_in_building']].reset_index()\n",
    "recent_rent_df_map_index = recent_rent_df_map.groupby(['latitude', 'longitude', 'built_year', 'area_m2'])['recent_rent_in_building'].nth(-1).index\n",
    "recent_rent_df_map_scaled = recent_rent_df_map.loc[recent_rent_df_map_index]\n",
    "\n",
    "df_test_new = df_test_new.merge(recent_rent_df_map_scaled[['latitude', 'longitude', 'built_year', 'area_m2', 'recent_rent_in_building']], \n",
    "                                    on=['latitude', 'longitude', 'built_year', 'area_m2'], how='left')\n",
    "\n",
    "df_test_new['recent_rent_in_building'].fillna(recent_rent_df_map['recent_rent_in_building'].median(), inplace=True)\n",
    "\n",
    "total_train_data_dep = df_total_new_sorted.sort_index()\n",
    "test_data_dep = df_test_new"
   ]
  },
  {
   "cell_type": "code",
   "execution_count": 14,
   "metadata": {},
   "outputs": [
    {
     "name": "stdout",
     "output_type": "stream",
     "text": [
      "create deposit feature 1\n",
      "create deposit feature 2\n",
      "(150172, 54)\n",
      "create deposit feature 3\n",
      "(150172, 55)\n"
     ]
    }
   ],
   "source": [
    "# total_train_data = pd.concat([train_data, valid_data])\n",
    "\n",
    "## deposit feature\n",
    "print(\"create deposit feature 1\")\n",
    "# total_train_data_dep, test_data_dep = add_recent_rent_in_building(total_train_data, test_data, type = 'test')\n",
    "# print(total_train_data_dep.shape,test_data_dep.shape)\n",
    "print(\"create deposit feature 2\")\n",
    "total_train_data_dep, test_data_dep = add_avg_rent_in_past_year(total_train_data_dep, test_data_dep, type = 'test')\n",
    "print(test_data_dep.shape)\n",
    "print(\"create deposit feature 3\")\n",
    "total_train_data_dep, test_data_dep = add_rent_growth_rate(total_train_data_dep, test_data_dep, type = 'test')\n",
    "print(test_data_dep.shape)"
   ]
  },
  {
   "cell_type": "code",
   "execution_count": 15,
   "metadata": {},
   "outputs": [],
   "source": [
    "feat = top_20_features + ['deposit']\n",
    "\n",
    "total_train_data_dep = total_train_data_dep[feat]\n",
    "test_data_dep = test_data_dep[feat]"
   ]
  },
  {
   "cell_type": "code",
   "execution_count": 16,
   "metadata": {},
   "outputs": [
    {
     "name": "stdout",
     "output_type": "stream",
     "text": [
      "standardization...\n"
     ]
    }
   ],
   "source": [
    "### 정규화\n",
    "print(\"standardization...\")\n",
    "\n",
    "exclude_cols = ['deposit']\n",
    "\n",
    "# 스케일링할 수치형 변수 선택\n",
    "features_to_scale = [col for col in total_train_data_dep.columns \n",
    "                    if col not in exclude_cols and total_train_data_dep[col].dtype in ['int64', 'float64']]\n",
    "\n",
    "scaler = StandardScaler()\n",
    "\n",
    "total_train_data_scaled = total_train_data_dep.copy()\n",
    "total_train_data_scaled[features_to_scale] = scaler.fit_transform(total_train_data_dep[features_to_scale])\n",
    "\n",
    "test_data_scaled = test_data_dep.copy()\n",
    "test_data_scaled[features_to_scale] = scaler.transform(test_data_dep[features_to_scale])\n",
    "\n",
    "# feature selection\n",
    "# train_data, valid_data, test_data = preprocessing.feature_selection(train_data, valid_data, test_data)"
   ]
  },
  {
   "cell_type": "code",
   "execution_count": 17,
   "metadata": {},
   "outputs": [
    {
     "name": "stdout",
     "output_type": "stream",
     "text": [
      "Training with total dataset...\n"
     ]
    }
   ],
   "source": [
    " # train with total dataset\n",
    "print(\"Training with total dataset...\")\n",
    "\n",
    "spatial_weight_matrix.generate_weight_matrices(total_train_data_scaled, total_train_data_scaled, dataset_type='train_total')\n",
    "spatial_weight_matrix.generate_weight_matrices(test_data_scaled, total_train_data_scaled, dataset_type='test')\n",
    "\n",
    "model = XGBoostWithSpatialWeight(spatial_weight_matrix)\n",
    "model.train(total_train_data_scaled, dataset_type='train_total')"
   ]
  },
  {
   "cell_type": "code",
   "execution_count": 18,
   "metadata": {},
   "outputs": [
    {
     "name": "stdout",
     "output_type": "stream",
     "text": [
      "Successfully executed main.py.\n"
     ]
    }
   ],
   "source": [
    "sample_submission = Directory.sample_submission\n",
    "sample_submission['deposit'] = model.inference(test_data_scaled, total_train_data_scaled)\n",
    "# save sample submission\n",
    "# save sample submission\n",
    "submission_path = os.path.join(\"/data/ephemeral/home/level2-competitiveds-recsys-01/result\", \"submission\")\n",
    "os.makedirs(submission_path, exist_ok=True)\n",
    "\n",
    "submission_file_path = os.path.join(submission_path, 'plus deposit features and feature20+weighted matrix xgboost')\n",
    "sample_submission.to_csv(submission_file_path, index=False, encoding='utf-8-sig')\n",
    "\n",
    "print(\"Successfully executed main.py.\")"
   ]
  },
  {
   "cell_type": "code",
   "execution_count": null,
   "metadata": {},
   "outputs": [],
   "source": []
  }
 ],
 "metadata": {
  "kernelspec": {
   "display_name": ".venv",
   "language": "python",
   "name": "python3"
  },
  "language_info": {
   "codemirror_mode": {
    "name": "ipython",
    "version": 3
   },
   "file_extension": ".py",
   "mimetype": "text/x-python",
   "name": "python",
   "nbconvert_exporter": "python",
   "pygments_lexer": "ipython3",
   "version": "3.10.13"
  }
 },
 "nbformat": 4,
 "nbformat_minor": 2
}
